{
  "nbformat": 4,
  "nbformat_minor": 0,
  "metadata": {
    "colab": {
      "name": "z8.ipynb",
      "provenance": [],
      "collapsed_sections": [],
      "authorship_tag": "ABX9TyMO+2fTTwnX57aM7w4fp9UT",
      "include_colab_link": true
    },
    "kernelspec": {
      "name": "python3",
      "display_name": "Python 3"
    }
  },
  "cells": [
    {
      "cell_type": "markdown",
      "metadata": {
        "id": "view-in-github",
        "colab_type": "text"
      },
      "source": [
        "<a href=\"https://colab.research.google.com/github/dunomi/zw/blob/master/z8.ipynb\" target=\"_parent\"><img src=\"https://colab.research.google.com/assets/colab-badge.svg\" alt=\"Open In Colab\"/></a>"
      ]
    },
    {
      "cell_type": "code",
      "metadata": {
        "id": "uQH_nvhpBfM3",
        "colab_type": "code",
        "colab": {}
      },
      "source": [
        "import numpy as np\n",
        "import pandas as pd\n",
        "\n",
        "X=pd.read_csv('https://raw.githubusercontent.com/mwaskom/seaborn-data/master/titanic.csv')\n",
        "Y=pd.DataFrame(np.random.randint(0,100,size=(100, 4)), columns=list('ABCD'))/100\n",
        "Z=pd.read_csv('https://raw.githubusercontent.com/mwaskom/seaborn-data/master/mpg.csv')\n",
        "G=pd.DataFrame({'foo': ['one', 'one', 'one', 'two', 'two','two'],\n",
        "                   'bar': ['A', 'B', 'C', 'A', 'B', 'C'],\n",
        "                   'baz': [1, 2, 3, 4, 5, 6],\n",
        "                   'zoo': ['x', 'y', 'z', 'q', 'w', 't']})\n"
      ],
      "execution_count": 0,
      "outputs": []
    },
    {
      "cell_type": "markdown",
      "metadata": {
        "id": "Vp6-Q-1gGKz7",
        "colab_type": "text"
      },
      "source": [
        "**set_option**\n",
        "\n",
        "display.chop_threshold: float or None\n",
        "if set to a float value, all float values smaller then the given threshold will be displayed as exactly 0 by repr and friends. [default: None]\n",
        "\n",
        "display.colheader_justify‘left’/’right’\n",
        "Controls the justification of column headers. used by DataFrameFormatter. [default: right]\n",
        "\n"
      ]
    },
    {
      "cell_type": "code",
      "metadata": {
        "id": "Vd1XHw9fCm6S",
        "colab_type": "code",
        "colab": {}
      },
      "source": [
        "pd.set_option('chop_threshold',0.4)\n",
        "print(Y)\n",
        "pd.reset_option('all')\n",
        "print(Y)"
      ],
      "execution_count": 0,
      "outputs": []
    },
    {
      "cell_type": "code",
      "metadata": {
        "id": "d0Z6J4W7DEyW",
        "colab_type": "code",
        "colab": {}
      },
      "source": [
        "pd.set_option('colheader_justify','left')\n",
        "print(X)\n",
        "pd.reset_option('all')\n",
        "print(X)"
      ],
      "execution_count": 0,
      "outputs": []
    },
    {
      "cell_type": "code",
      "metadata": {
        "id": "AlN6pYInG5o4",
        "colab_type": "code",
        "colab": {}
      },
      "source": [
        "pd.set_option('max_columns',999)\n",
        "pd.set_option('max_colwidth',6)\n",
        "pd.set_option('max_rows',6)\n",
        "\n",
        "print(X)\n",
        "pd.reset_option('all')\n",
        "print(X)"
      ],
      "execution_count": 0,
      "outputs": []
    },
    {
      "cell_type": "markdown",
      "metadata": {
        "id": "_aZdTBNGKzjD",
        "colab_type": "text"
      },
      "source": [
        "**pivot**\n",
        "\n"
      ]
    },
    {
      "cell_type": "code",
      "metadata": {
        "id": "04VNtF2iM3QO",
        "colab_type": "code",
        "colab": {}
      },
      "source": [
        "MELT=pd.melt(G, id_vars =['zoo'], value_vars =['foo','bar','baz'])\n",
        "PIVOT= MELT.pivot(index='zoo', columns='variable', values='value')\n",
        "\n",
        "print(G)\n",
        "print(MELT)\n",
        "print(PIVOT)"
      ],
      "execution_count": 0,
      "outputs": []
    },
    {
      "cell_type": "markdown",
      "metadata": {
        "id": "oK-ba5FK2J9U",
        "colab_type": "text"
      },
      "source": [
        "**MultiIndex**"
      ]
    },
    {
      "cell_type": "code",
      "metadata": {
        "id": "mwyVilje2kp5",
        "colab_type": "code",
        "colab": {}
      },
      "source": [
        "np.r_[1:13]\n",
        "\n",
        "a=[[1]*3+[2]*3+[3]*3+[4]*3,\n",
        "   np.r_[1:13]]\n",
        "tuples=list(zip(*a))\n",
        "\n",
        "index=pd.MultiIndex.from_tuples(tuples, names=['quarter', 'month'])\n",
        "\n",
        "S = pd.Series(np.random.randn(12), index=index)\n",
        "print(S)"
      ],
      "execution_count": 0,
      "outputs": []
    },
    {
      "cell_type": "markdown",
      "metadata": {
        "id": "KonnIC-x4cOf",
        "colab_type": "text"
      },
      "source": [
        "**fillna**"
      ]
    },
    {
      "cell_type": "code",
      "metadata": {
        "id": "DjaRZGBP4buH",
        "colab_type": "code",
        "colab": {}
      },
      "source": [
        ""
      ],
      "execution_count": 0,
      "outputs": []
    }
  ]
}
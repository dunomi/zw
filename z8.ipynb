{
  "nbformat": 4,
  "nbformat_minor": 0,
  "metadata": {
    "colab": {
      "name": "z8.ipynb",
      "provenance": [],
      "collapsed_sections": [],
      "authorship_tag": "ABX9TyPdtwlRPw3uJCoONpMy2Tbd",
      "include_colab_link": true
    },
    "kernelspec": {
      "name": "python3",
      "display_name": "Python 3"
    }
  },
  "cells": [
    {
      "cell_type": "markdown",
      "metadata": {
        "id": "view-in-github",
        "colab_type": "text"
      },
      "source": [
        "<a href=\"https://colab.research.google.com/github/dunomi/zw/blob/master/z8.ipynb\" target=\"_parent\"><img src=\"https://colab.research.google.com/assets/colab-badge.svg\" alt=\"Open In Colab\"/></a>"
      ]
    },
    {
      "cell_type": "code",
      "metadata": {
        "id": "uQH_nvhpBfM3",
        "colab_type": "code",
        "colab": {}
      },
      "source": [
        "import numpy as np\n",
        "import pandas as pd\n",
        "\n",
        "X=pd.read_csv('https://raw.githubusercontent.com/mwaskom/seaborn-data/master/titanic.csv')\n",
        "Y=pd.DataFrame(np.random.randint(0,100,size=(100, 4)), columns=list('ABCD'))/100\n",
        "Z=pd.read_csv('https://raw.githubusercontent.com/mwaskom/seaborn-data/master/mpg.csv')\n",
        "G=pd.DataFrame({'foo': ['one', 'one', 'one', 'two', 'two','two'],\n",
        "                   'bar': ['A', 'B', 'C', 'A', 'B', 'C'],\n",
        "                   'baz': [1, 2, 3, 4, 5, 6],\n",
        "                   'zoo': ['x', 'y', 'z', 'q', 'w', 't']})"
      ],
      "execution_count": 0,
      "outputs": []
    },
    {
      "cell_type": "markdown",
      "metadata": {
        "id": "Vp6-Q-1gGKz7",
        "colab_type": "text"
      },
      "source": [
        "**set_option**\n",
        "\n",
        "display.chop_threshold: float or None\n",
        "if set to a float value, all float values smaller then the given threshold will be displayed as exactly 0 by repr and friends. [default: None]\n",
        "\n",
        "display.colheader_justify‘left’/’right’\n",
        "Controls the justification of column headers. used by DataFrameFormatter. [default: right]\n",
        "\n"
      ]
    },
    {
      "cell_type": "code",
      "metadata": {
        "id": "Vd1XHw9fCm6S",
        "colab_type": "code",
        "colab": {}
      },
      "source": [
        "pd.set_option('chop_threshold',0.4)\n",
        "print(Y)\n",
        "pd.reset_option('all')\n",
        "print(Y)"
      ],
      "execution_count": 0,
      "outputs": []
    },
    {
      "cell_type": "code",
      "metadata": {
        "id": "d0Z6J4W7DEyW",
        "colab_type": "code",
        "colab": {}
      },
      "source": [
        "pd.set_option('colheader_justify','left')\n",
        "print(X)\n",
        "pd.reset_option('all')\n",
        "print(X)"
      ],
      "execution_count": 0,
      "outputs": []
    },
    {
      "cell_type": "code",
      "metadata": {
        "id": "AlN6pYInG5o4",
        "colab_type": "code",
        "colab": {}
      },
      "source": [
        "pd.set_option('max_columns',999)\n",
        "pd.set_option('max_colwidth',6)\n",
        "pd.set_option('max_rows',6)\n",
        "\n",
        "print(X)\n",
        "pd.reset_option('all')\n",
        "print(X)"
      ],
      "execution_count": 0,
      "outputs": []
    },
    {
      "cell_type": "markdown",
      "metadata": {
        "id": "_aZdTBNGKzjD",
        "colab_type": "text"
      },
      "source": [
        "**pivot**\n",
        "\n"
      ]
    },
    {
      "cell_type": "code",
      "metadata": {
        "id": "04VNtF2iM3QO",
        "colab_type": "code",
        "colab": {}
      },
      "source": [
        "MELT=pd.melt(G, id_vars =['zoo'], value_vars =['foo','bar','baz'])\n",
        "PIVOT= MELT.pivot(index='zoo', columns='variable', values='value')\n",
        "\n",
        "print(G)\n",
        "print(MELT)\n",
        "print(PIVOT)"
      ],
      "execution_count": 0,
      "outputs": []
    },
    {
      "cell_type": "code",
      "metadata": {
        "id": "vyJ_TRq2O9bk",
        "colab_type": "code",
        "outputId": "c0721b82-373d-4346-9ce0-0074b68f9990",
        "colab": {
          "base_uri": "https://localhost:8080/",
          "height": 223
        }
      },
      "source": [
        ""
      ],
      "execution_count": 0,
      "outputs": [
        {
          "output_type": "execute_result",
          "data": {
            "text/html": [
              "<div>\n",
              "<style scoped>\n",
              "    .dataframe tbody tr th:only-of-type {\n",
              "        vertical-align: middle;\n",
              "    }\n",
              "\n",
              "    .dataframe tbody tr th {\n",
              "        vertical-align: top;\n",
              "    }\n",
              "\n",
              "    .dataframe thead th {\n",
              "        text-align: right;\n",
              "    }\n",
              "</style>\n",
              "<table border=\"1\" class=\"dataframe\">\n",
              "  <thead>\n",
              "    <tr style=\"text-align: right;\">\n",
              "      <th></th>\n",
              "      <th>foo</th>\n",
              "      <th>bar</th>\n",
              "      <th>baz</th>\n",
              "      <th>zoo</th>\n",
              "    </tr>\n",
              "  </thead>\n",
              "  <tbody>\n",
              "    <tr>\n",
              "      <th>0</th>\n",
              "      <td>one</td>\n",
              "      <td>A</td>\n",
              "      <td>1</td>\n",
              "      <td>x</td>\n",
              "    </tr>\n",
              "    <tr>\n",
              "      <th>1</th>\n",
              "      <td>one</td>\n",
              "      <td>B</td>\n",
              "      <td>2</td>\n",
              "      <td>y</td>\n",
              "    </tr>\n",
              "    <tr>\n",
              "      <th>2</th>\n",
              "      <td>one</td>\n",
              "      <td>C</td>\n",
              "      <td>3</td>\n",
              "      <td>z</td>\n",
              "    </tr>\n",
              "    <tr>\n",
              "      <th>3</th>\n",
              "      <td>two</td>\n",
              "      <td>A</td>\n",
              "      <td>4</td>\n",
              "      <td>q</td>\n",
              "    </tr>\n",
              "    <tr>\n",
              "      <th>4</th>\n",
              "      <td>two</td>\n",
              "      <td>B</td>\n",
              "      <td>5</td>\n",
              "      <td>w</td>\n",
              "    </tr>\n",
              "    <tr>\n",
              "      <th>5</th>\n",
              "      <td>two</td>\n",
              "      <td>C</td>\n",
              "      <td>6</td>\n",
              "      <td>t</td>\n",
              "    </tr>\n",
              "  </tbody>\n",
              "</table>\n",
              "</div>"
            ],
            "text/plain": [
              "   foo bar  baz zoo\n",
              "0  one   A    1   x\n",
              "1  one   B    2   y\n",
              "2  one   C    3   z\n",
              "3  two   A    4   q\n",
              "4  two   B    5   w\n",
              "5  two   C    6   t"
            ]
          },
          "metadata": {
            "tags": []
          },
          "execution_count": 90
        }
      ]
    }
  ]
}
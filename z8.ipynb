{
  "nbformat": 4,
  "nbformat_minor": 0,
  "metadata": {
    "colab": {
      "name": "z8.ipynb",
      "provenance": [],
      "collapsed_sections": [],
      "authorship_tag": "ABX9TyM198QuVH6KLW8+5tacCAle",
      "include_colab_link": true
    },
    "kernelspec": {
      "name": "python3",
      "display_name": "Python 3"
    }
  },
  "cells": [
    {
      "cell_type": "markdown",
      "metadata": {
        "id": "view-in-github",
        "colab_type": "text"
      },
      "source": [
        "<a href=\"https://colab.research.google.com/github/dunomi/zw/blob/master/z8.ipynb\" target=\"_parent\"><img src=\"https://colab.research.google.com/assets/colab-badge.svg\" alt=\"Open In Colab\"/></a>"
      ]
    },
    {
      "cell_type": "code",
      "metadata": {
        "id": "uQH_nvhpBfM3",
        "colab_type": "code",
        "colab": {}
      },
      "source": [
        "import numpy as np\n",
        "import pandas as pd\n",
        "import random\n",
        "\n",
        "X=pd.read_csv('https://raw.githubusercontent.com/mwaskom/seaborn-data/master/titanic.csv')\n",
        "Y=pd.DataFrame(np.random.randint(0,100,size=(100, 4)), columns=list('ABCD'))/100\n",
        "Z=pd.read_csv('https://raw.githubusercontent.com/mwaskom/seaborn-data/master/mpg.csv')\n",
        "G=pd.DataFrame({'foo': ['one', 'one', 'one', 'two', 'two','two'],\n",
        "                   'bar': ['A', 'B', 'C', 'A', 'B', 'C'],\n",
        "                   'baz': [1, 2, 3, 4, 5, 6],\n",
        "                   'zoo': ['x', 'y', 'z', 'q', 'w', 't']})\n"
      ],
      "execution_count": 0,
      "outputs": []
    },
    {
      "cell_type": "markdown",
      "metadata": {
        "id": "Vp6-Q-1gGKz7",
        "colab_type": "text"
      },
      "source": [
        "**set_option**\n",
        "\n",
        "Opcja umożliwia zmianę sposobu wyświetlania ramek danych i formatowania różnych składowych\n",
        "\n",
        "Opcje zaprezentowane poniżej:\n",
        "\n",
        "*chop_threshold* - wartości poniżej wskazanej wartości są zaokrąglane do zera,\n",
        "\n",
        "*reset_option('all')* - resetuje zmienione ustawienia do wartości domyślnych,\n",
        "\n",
        "*colheader_justify* - wyrównuje nazwy kolumn do prawej bądź do lewej,\n",
        "\n",
        "*max_columns, max_rows* - ustala maksymalną liczbę wyświetlanych kolumn/wierszy,\n",
        "\n",
        "*max_colwidth* - ustala maksymalną długość wyrażeń w komórkach.\n",
        "\n"
      ]
    },
    {
      "cell_type": "code",
      "metadata": {
        "id": "Vd1XHw9fCm6S",
        "colab_type": "code",
        "colab": {}
      },
      "source": [
        "pd.set_option('chop_threshold',0.4)\n",
        "print(Y)\n",
        "pd.reset_option('all')\n",
        "print(Y)"
      ],
      "execution_count": 0,
      "outputs": []
    },
    {
      "cell_type": "code",
      "metadata": {
        "id": "d0Z6J4W7DEyW",
        "colab_type": "code",
        "colab": {}
      },
      "source": [
        "pd.set_option('colheader_justify','left')\n",
        "print(X)\n",
        "pd.reset_option('all')\n",
        "print(X)"
      ],
      "execution_count": 0,
      "outputs": []
    },
    {
      "cell_type": "code",
      "metadata": {
        "id": "AlN6pYInG5o4",
        "colab_type": "code",
        "colab": {}
      },
      "source": [
        "pd.set_option('max_columns',999)\n",
        "pd.set_option('max_colwidth',6)\n",
        "pd.set_option('max_rows',6)\n",
        "\n",
        "print(X)\n",
        "pd.reset_option('all')\n",
        "print(X)"
      ],
      "execution_count": 0,
      "outputs": []
    },
    {
      "cell_type": "markdown",
      "metadata": {
        "id": "_aZdTBNGKzjD",
        "colab_type": "text"
      },
      "source": [
        "**pivot** and **melt**\n",
        "\n",
        "Opcja *melt*  konwertuję ramkę danych z \"szerokiego\" do \"długiego\" formatu.\n",
        "\n",
        "Najpierw podajemy ramkę danych, nasepnie kolumnę z indexami, a następnie kolumny z wartościami.\n",
        "\n",
        "A opcja *pivot* przeciwnie,  konwertuję ramkę danych z \"długiego\" do \"szerokiego\" formatu.\n",
        "\n",
        "Najpierw podajemy kolumnę z indexami, a następnie kolumnę z wartościami, a następnie nazwę kolumny z wartościami."
      ]
    },
    {
      "cell_type": "code",
      "metadata": {
        "id": "04VNtF2iM3QO",
        "colab_type": "code",
        "colab": {}
      },
      "source": [
        "MELT=pd.melt(G, id_vars =['zoo'], value_vars =['foo','bar','baz'])\n",
        "PIVOT= MELT.pivot(index='zoo', columns='variable', values='value')\n",
        "\n",
        "print(G)\n",
        "print(MELT)\n",
        "print(PIVOT)"
      ],
      "execution_count": 0,
      "outputs": []
    },
    {
      "cell_type": "markdown",
      "metadata": {
        "id": "oK-ba5FK2J9U",
        "colab_type": "text"
      },
      "source": [
        "**MultiIndex** - etykiety hierarchiczne\n",
        "\n",
        "Umożliwia tworzeniu złożonych etykiet. Najlepiej jest to zrozumieć na przykładzie. Tworzymy najpierw etykiety, które łączymy ze sobą i przypisujemy do ramki danych. "
      ]
    },
    {
      "cell_type": "code",
      "metadata": {
        "id": "mwyVilje2kp5",
        "colab_type": "code",
        "colab": {}
      },
      "source": [
        "np.r_[1:13]\n",
        "\n",
        "a=[[1]*3+[2]*3+[3]*3+[4]*3,\n",
        "   np.r_[1:13]]\n",
        "tuples=list(zip(*a))\n",
        "\n",
        "index=pd.MultiIndex.from_tuples(tuples, names=['quarter', 'month'])\n",
        "\n",
        "S = pd.Series(np.random.randn(12), index=index)\n",
        "print(S)"
      ],
      "execution_count": 0,
      "outputs": []
    },
    {
      "cell_type": "markdown",
      "metadata": {
        "id": "KonnIC-x4cOf",
        "colab_type": "text"
      },
      "source": [
        "**fillna** and **dropna** \n",
        "\n",
        "Opcja *dropna* usuwa wartości NaN, a opcja *fillna* zamienia wartości NaN na wskazane w nawiasie."
      ]
    },
    {
      "cell_type": "code",
      "metadata": {
        "id": "DjaRZGBP4buH",
        "colab_type": "code",
        "colab": {}
      },
      "source": [
        "H=np.append(np.random.randn(15),\n",
        "             [np.NaN]*5)\n",
        "np.random.shuffle(H)\n",
        "H=pd.DataFrame(H)\n",
        "print(H)\n",
        "\n",
        "H.dropna()\n",
        "H.fillna(H.mean())"
      ],
      "execution_count": 0,
      "outputs": []
    },
    {
      "cell_type": "markdown",
      "metadata": {
        "id": "rW3xgDMe9SiB",
        "colab_type": "text"
      },
      "source": [
        "**cut**\n",
        "Opcja służy do przekształcenia zmiennej typu ilościowego na jakościową.\n",
        "\n",
        "Poniżej w nawiasie podano dane, następnie przedziały (od 0 do 80, od 80 do 130, od 130 do 9999). Następnie opcja right ustala prawo/lewostronne domknięcie przedziałów. A lables dodaje atykiety.  "
      ]
    },
    {
      "cell_type": "code",
      "metadata": {
        "id": "vjNR3hrs9SA0",
        "colab_type": "code",
        "colab": {}
      },
      "source": [
        "pd.cut(Z.horsepower, np.r_[0,80,130,9999], \n",
        "       right=True, # przedział prawostronnie owarty = True\n",
        "       labels=['Mała moc silnika','Średnia moc silnika','Duża moc silnika'])"
      ],
      "execution_count": 0,
      "outputs": []
    }
  ]
}
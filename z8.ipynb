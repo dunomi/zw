{
  "nbformat": 4,
  "nbformat_minor": 0,
  "metadata": {
    "colab": {
      "name": "z8.ipynb",
      "provenance": [],
      "collapsed_sections": [],
      "authorship_tag": "ABX9TyNnhAhsIqwPparlYNQhSy+8",
      "include_colab_link": true
    },
    "kernelspec": {
      "name": "python3",
      "display_name": "Python 3"
    }
  },
  "cells": [
    {
      "cell_type": "markdown",
      "metadata": {
        "id": "view-in-github",
        "colab_type": "text"
      },
      "source": [
        "<a href=\"https://colab.research.google.com/github/dunomi/zw/blob/master/z8.ipynb\" target=\"_parent\"><img src=\"https://colab.research.google.com/assets/colab-badge.svg\" alt=\"Open In Colab\"/></a>"
      ]
    },
    {
      "cell_type": "code",
      "metadata": {
        "id": "uQH_nvhpBfM3",
        "colab_type": "code",
        "colab": {}
      },
      "source": [
        "import numpy as np\n",
        "import pandas as pd\n",
        "\n",
        "X=pd.read_csv('https://raw.githubusercontent.com/mwaskom/seaborn-data/master/titanic.csv')\n",
        "Y=pd.DataFrame(np.random.randint(0,100,size=(100, 4)), columns=list('ABCD'))/100"
      ],
      "execution_count": 0,
      "outputs": []
    },
    {
      "cell_type": "markdown",
      "metadata": {
        "id": "Vp6-Q-1gGKz7",
        "colab_type": "text"
      },
      "source": [
        "display.chop_threshold: float or None\n",
        "if set to a float value, all float values smaller then the given threshold will be displayed as exactly 0 by repr and friends. [default: None]\n",
        "\n",
        "display.colheader_justify‘left’/’right’\n",
        "Controls the justification of column headers. used by DataFrameFormatter. [default: right]\n",
        "\n"
      ]
    },
    {
      "cell_type": "code",
      "metadata": {
        "id": "Vd1XHw9fCm6S",
        "colab_type": "code",
        "colab": {}
      },
      "source": [
        "pd.set_option('chop_threshold',0.4)\n",
        "print(Y)\n",
        "pd.reset_option('all')\n",
        "print(Y)"
      ],
      "execution_count": 0,
      "outputs": []
    },
    {
      "cell_type": "code",
      "metadata": {
        "id": "d0Z6J4W7DEyW",
        "colab_type": "code",
        "colab": {}
      },
      "source": [
        "pd.set_option('colheader_justify','left')\n",
        "print(X)\n",
        "pd.reset_option('all')\n",
        "print(X)"
      ],
      "execution_count": 0,
      "outputs": []
    },
    {
      "cell_type": "code",
      "metadata": {
        "id": "AlN6pYInG5o4",
        "colab_type": "code",
        "colab": {
          "base_uri": "https://localhost:8080/",
          "height": 799
        },
        "outputId": "0b87179a-29a5-4a89-9d70-dd5d9f1e673c"
      },
      "source": [
        "pd.set_option('max_columns',999)\n",
        "pd.set_option('max_colwidth',6)\n",
        "pd.set_option('max_rows',6)\n",
        "\n",
        "print(X)\n",
        "pd.reset_option('all')\n",
        "print(X)"
      ],
      "execution_count": 63,
      "outputs": [
        {
          "output_type": "stream",
          "text": [
            "     survived  pclass    sex   age  sibsp  parch   fare embarked  class  \\\n",
            "0        0         3    male  22.0      1      0  7....      S    Third   \n",
            "1        1         1   fe...  38.0      1      0  71...      C    First   \n",
            "2        1         3   fe...  26.0      0      0  7....      S    Third   \n",
            "..     ...       ...     ...   ...    ...    ...    ...    ...      ...   \n",
            "888      0         3   fe...   NaN      1      2  23...      S    Third   \n",
            "889      1         1    male  26.0      0      0  30...      C    First   \n",
            "890      0         3    male  32.0      0      0  7....      Q    Third   \n",
            "\n",
            "       who  adult_male deck embark_town alive  alone  \n",
            "0      man   True       NaN  So...         no  False  \n",
            "1    woman  False         C  Ch...        yes  False  \n",
            "2    woman  False       NaN  So...        yes   True  \n",
            "..     ...    ...       ...    ...        ...    ...  \n",
            "888  woman  False       NaN  So...         no  False  \n",
            "889    man   True         C  Ch...        yes   True  \n",
            "890    man   True       NaN  Qu...         no   True  \n",
            "\n",
            "[891 rows x 15 columns]\n",
            "\n",
            ": boolean\n",
            "    use_inf_as_null had been deprecated and will be removed in a future\n",
            "    version. Use `use_inf_as_na` instead.\n",
            "\n",
            "     survived  pclass     sex   age  ...  deck  embark_town  alive  alone\n",
            "0           0       3    male  22.0  ...   NaN  Southampton     no  False\n",
            "1           1       1  female  38.0  ...     C    Cherbourg    yes  False\n",
            "2           1       3  female  26.0  ...   NaN  Southampton    yes   True\n",
            "3           1       1  female  35.0  ...     C  Southampton    yes  False\n",
            "4           0       3    male  35.0  ...   NaN  Southampton     no   True\n",
            "..        ...     ...     ...   ...  ...   ...          ...    ...    ...\n",
            "886         0       2    male  27.0  ...   NaN  Southampton     no   True\n",
            "887         1       1  female  19.0  ...     B  Southampton    yes   True\n",
            "888         0       3  female   NaN  ...   NaN  Southampton     no  False\n",
            "889         1       1    male  26.0  ...     C    Cherbourg    yes   True\n",
            "890         0       3    male  32.0  ...   NaN   Queenstown     no   True\n",
            "\n",
            "[891 rows x 15 columns]\n"
          ],
          "name": "stdout"
        },
        {
          "output_type": "stream",
          "text": [
            "/usr/local/lib/python3.6/dist-packages/pandas/_config/config.py:620: FutureWarning: \n",
            ": boolean\n",
            "    use_inf_as_null had been deprecated and will be removed in a future\n",
            "    version. Use `use_inf_as_na` instead.\n",
            "\n",
            "  warnings.warn(d.msg, FutureWarning)\n"
          ],
          "name": "stderr"
        }
      ]
    }
  ]
}
{
  "nbformat": 4,
  "nbformat_minor": 0,
  "metadata": {
    "colab": {
      "name": "zp4.ipynb",
      "provenance": [],
      "authorship_tag": "ABX9TyOVfineZr8C2mfEfk14YKRj",
      "include_colab_link": true
    },
    "kernelspec": {
      "name": "python3",
      "display_name": "Python 3"
    }
  },
  "cells": [
    {
      "cell_type": "markdown",
      "metadata": {
        "id": "view-in-github",
        "colab_type": "text"
      },
      "source": [
        "<a href=\"https://colab.research.google.com/github/dunomi/zw/blob/master/zp4.ipynb\" target=\"_parent\"><img src=\"https://colab.research.google.com/assets/colab-badge.svg\" alt=\"Open In Colab\"/></a>"
      ]
    },
    {
      "cell_type": "code",
      "metadata": {
        "id": "p6qxYH8BCZlw",
        "colab_type": "code",
        "colab": {
          "base_uri": "https://localhost:8080/",
          "height": 34
        },
        "outputId": "acb4e713-05b9-4ea4-976a-b1ef8e64c665"
      },
      "source": [
        "import pandas as pd\n",
        "import numpy as np\n",
        "import random\n",
        "\n",
        "usa = pd.read_csv(\"https://raw.githubusercontent.com/plotly/datasets/master/2014_us_cities.csv\")\n",
        "usa_cities=usa.name.tolist()\n",
        "usa_pop=usa['pop'].tolist()\n",
        "\n",
        "cars = pd.read_csv(\"https://raw.githubusercontent.com/plotly/datasets/master/mtcars.csv\")\n",
        "cars_hp=cars[['manufacturer','hp']]\n",
        "\n",
        "uber_rides = pd.read_csv(\"https://raw.githubusercontent.com/plotly/datasets/master/uber-rides-data1.csv\")"
      ],
      "execution_count": 122,
      "outputs": [
        {
          "output_type": "stream",
          "text": [
            "ERROR! Session/line number was not unique in database. History logging moved to new session 66\n"
          ],
          "name": "stdout"
        }
      ]
    },
    {
      "cell_type": "code",
      "metadata": {
        "id": "Ouq84mRsCbQ6",
        "colab_type": "code",
        "colab": {}
      },
      "source": [
        "def amount_vovel_sort(lista):\n",
        "  \"Funkcja sortująca liste według ilość samogłosek w słowach\"\n",
        "  lista.sort(key = lambda word: sum(i in 'aeiou' for i in word),\n",
        "             reverse=True)\n",
        "  return lista\n",
        "\n",
        "#help(amount_vovel_sort)\n",
        "#print(amount_vovel_sort(usa_cities))"
      ],
      "execution_count": 0,
      "outputs": []
    },
    {
      "cell_type": "code",
      "metadata": {
        "id": "OigPITCWCbO-",
        "colab_type": "code",
        "colab": {}
      },
      "source": [
        "def amount_words_in_name_sort(lista):\n",
        "  \"Funkcja sortująca malejąco liste według ilość członów odzielonych sapacjami\"\n",
        "  lista.sort(key=lambda word: len(word.split()),\n",
        "             reverse=True)\n",
        "  return lista\n",
        "\n",
        "#help(amount_words_in_name_sort)\n",
        "#print(amount_words_in_name_sort(usa_cities))"
      ],
      "execution_count": 0,
      "outputs": []
    },
    {
      "cell_type": "code",
      "metadata": {
        "id": "DQUpE9ufQaFm",
        "colab_type": "code",
        "colab": {}
      },
      "source": [
        "def amount_letters_in_word_sort(lista):\n",
        "  \"Funkcja sortująca listę według ilości liter w słowach\"\n",
        "  lista.sort(key=len)\n",
        "\n",
        "#help(amount_letters_in_word_sort)\n",
        "#print(amount_words_in_name_sort(usa_cities))"
      ],
      "execution_count": 0,
      "outputs": []
    },
    {
      "cell_type": "code",
      "metadata": {
        "id": "ZXpxORngSTDh",
        "colab_type": "code",
        "colab": {}
      },
      "source": [
        "def words_sorting(lista):\n",
        "  \"Funkcja sortująca elemnty w liście. Dla napisów będzie to sortowanie alfabetyczne\"\n",
        "  lista2=[''.join(sorted(i)) for i in lista]\n",
        "  return lista2\n",
        "\n",
        "#help(words_sorting)\n",
        "#print(words_sorting(usa_cities))"
      ],
      "execution_count": 0,
      "outputs": []
    },
    {
      "cell_type": "code",
      "metadata": {
        "id": "ZohPAC7lV14o",
        "colab_type": "code",
        "colab": {}
      },
      "source": [
        "usa_dict=dict(zip(usa_cities,usa_pop))\n",
        "\n",
        "def dict_sorting_by_values(slownik):\n",
        "  \"Funkcja sortująca klucze słownika według wartości\"\n",
        "  k=sorted(slownik.items(), \n",
        "           key = lambda i: i[1],\n",
        "           reverse=True)\n",
        "  return dict(k)\n",
        "\n",
        "#help(dict_sorting_by_values)\n",
        "#print(dict_sorting_by_values(usa_dict))"
      ],
      "execution_count": 0,
      "outputs": []
    },
    {
      "cell_type": "code",
      "metadata": {
        "id": "7RgghSAnV17v",
        "colab_type": "code",
        "colab": {}
      },
      "source": [
        "def list1_by_list2_sort(lista1,lista2):\n",
        "  \"Funkcja sortująca rosnąco liste1 według wartosci z listy2\"\n",
        "  l = [x for _,x in sorted(zip(lista2,lista1))]\n",
        "  return l\n",
        "\n",
        "#help(list1_by_list2_sort)\n",
        "#print(list1_by_list2_sort(cars.manufacturer.tolist(),cars_hp.hp.tolist()))"
      ],
      "execution_count": 0,
      "outputs": []
    },
    {
      "cell_type": "code",
      "metadata": {
        "id": "nXGM8fRJLtEy",
        "colab_type": "code",
        "colab": {
          "base_uri": "https://localhost:8080/",
          "height": 146
        },
        "outputId": "49027290-14b8-48b6-cebe-c2846f7621cd"
      },
      "source": [
        "dates=[i[0:10] for i in uber_rides['Date/Time'].tolist()\n",
        "random.shuffle(dates)\n",
        "\n",
        "def str_date_sort(daty):\n",
        "  \"Funkcja sortująca liste dat formatu 'YYYY-MM-DD', które są typu string\"\n",
        "  l=[int(i.replace('-','')) for i in daty]\n",
        "  l.sort()\n",
        "  return l\n",
        "\n",
        "help(str_date_sort)\n",
        "print(str_date_sort(dates[0:50]))"
      ],
      "execution_count": 121,
      "outputs": [
        {
          "output_type": "error",
          "ename": "SyntaxError",
          "evalue": "ignored",
          "traceback": [
            "\u001b[0;36m  File \u001b[0;32m\"<ipython-input-122-efeebc5f2a75>\"\u001b[0;36m, line \u001b[0;32m2\u001b[0m\n\u001b[0;31m    random.shuffle(dates)\u001b[0m\n\u001b[0m         ^\u001b[0m\n\u001b[0;31mSyntaxError\u001b[0m\u001b[0;31m:\u001b[0m invalid syntax\n"
          ]
        },
        {
          "output_type": "stream",
          "text": [
            "ERROR! Session/line number was not unique in database. History logging moved to new session 65\n"
          ],
          "name": "stdout"
        }
      ]
    },
    {
      "cell_type": "code",
      "metadata": {
        "id": "2HhRyObMN3hn",
        "colab_type": "code",
        "colab": {
          "base_uri": "https://localhost:8080/",
          "height": 867
        },
        "outputId": "0ec0c068-9e43-4652-fe18-c4c193071a03"
      },
      "source": [
        "dates[0:50]\n"
      ],
      "execution_count": 121,
      "outputs": [
        {
          "output_type": "execute_result",
          "data": {
            "text/plain": [
              "['2014-06-05',\n",
              " '2014-04-04',\n",
              " '2014-05-06',\n",
              " '2014-05-04',\n",
              " '2014-04-02',\n",
              " '2014-05-09',\n",
              " '2014-04-06',\n",
              " '2014-04-01',\n",
              " '2014-05-15',\n",
              " '2014-05-16',\n",
              " '2014-04-26',\n",
              " '2014-05-09',\n",
              " '2014-04-10',\n",
              " '2014-05-27',\n",
              " '2014-04-06',\n",
              " '2014-05-03',\n",
              " '2014-05-16',\n",
              " '2014-05-18',\n",
              " '2014-05-04',\n",
              " '2014-05-24',\n",
              " '2014-05-06',\n",
              " '2014-06-10',\n",
              " '2014-05-21',\n",
              " '2014-05-31',\n",
              " '2014-05-21',\n",
              " '2014-06-28',\n",
              " '2014-04-02',\n",
              " '2014-06-12',\n",
              " '2014-05-08',\n",
              " '2014-04-23',\n",
              " '2014-05-21',\n",
              " '2014-05-10',\n",
              " '2014-05-02',\n",
              " '2014-04-10',\n",
              " '2014-06-11',\n",
              " '2014-04-24',\n",
              " '2014-05-28',\n",
              " '2014-05-10',\n",
              " '2014-05-16',\n",
              " '2014-06-19',\n",
              " '2014-05-05',\n",
              " '2014-04-02',\n",
              " '2014-04-25',\n",
              " '2014-05-29',\n",
              " '2014-04-04',\n",
              " '2014-06-08',\n",
              " '2014-04-25',\n",
              " '2014-06-04',\n",
              " '2014-04-30',\n",
              " '2014-04-30']"
            ]
          },
          "metadata": {
            "tags": []
          },
          "execution_count": 121
        },
        {
          "output_type": "stream",
          "text": [
            "ERROR! Session/line number was not unique in database. History logging moved to new session 64\n"
          ],
          "name": "stdout"
        }
      ]
    }
  ]
}
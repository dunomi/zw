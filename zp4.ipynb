{
  "nbformat": 4,
  "nbformat_minor": 0,
  "metadata": {
    "colab": {
      "name": "zp4.ipynb",
      "provenance": [],
      "authorship_tag": "ABX9TyN/wkXpOlqFouVB++m+306x",
      "include_colab_link": true
    },
    "kernelspec": {
      "name": "python3",
      "display_name": "Python 3"
    }
  },
  "cells": [
    {
      "cell_type": "markdown",
      "metadata": {
        "id": "view-in-github",
        "colab_type": "text"
      },
      "source": [
        "<a href=\"https://colab.research.google.com/github/dunomi/zw/blob/master/zp4.ipynb\" target=\"_parent\"><img src=\"https://colab.research.google.com/assets/colab-badge.svg\" alt=\"Open In Colab\"/></a>"
      ]
    },
    {
      "cell_type": "code",
      "metadata": {
        "id": "p6qxYH8BCZlw",
        "colab_type": "code",
        "colab": {}
      },
      "source": [
        "import pandas as pd\n",
        "import numpy as np\n",
        "\n",
        "\n",
        "\n"
      ],
      "execution_count": 0,
      "outputs": []
    },
    {
      "cell_type": "code",
      "metadata": {
        "id": "Ouq84mRsCbQ6",
        "colab_type": "code",
        "colab": {}
      },
      "source": [
        "usa_cities = pd.read_csv(\"https://raw.githubusercontent.com/plotly/datasets/master/2014_us_cities.csv\").name.tolist()\n",
        "word_list = ['banana', 'apple', 'pineapple']\n",
        "\n",
        "def amount_vovel_sort(lista):\n",
        "  \"Funkcja sortująca liste według ilość samogłosek w słowach\"\n",
        "  lista.sort(key = lambda word: sum(i in 'aeiou' for i in word),\n",
        "             reverse=True)\n",
        "  return lista\n",
        "\n",
        "#help(amount_vovel_sort)\n",
        "#print(amount_vovel_sort(usa_cities))\n",
        "#print(amount_vovel_sort(word_list))\n"
      ],
      "execution_count": 0,
      "outputs": []
    },
    {
      "cell_type": "code",
      "metadata": {
        "id": "OigPITCWCbO-",
        "colab_type": "code",
        "colab": {}
      },
      "source": [
        "def amount_words_in_name_sort(lista):\n",
        "  \"Funkcja sortująca malejąco liste według ilość członów odzielonych sapacjami\"\n",
        "  lista.sort(key=lambda word: len(word.split()),\n",
        "             reverse=True)\n",
        "  return lista\n",
        "\n",
        "help(amount_words_in_name_sort)\n",
        "print(amount_words_in_name_sort(usa_cities))"
      ],
      "execution_count": 0,
      "outputs": []
    },
    {
      "cell_type": "code",
      "metadata": {
        "id": "DQUpE9ufQaFm",
        "colab_type": "code",
        "colab": {}
      },
      "source": [
        "def amount_letters_in_word_sort(lista):\n",
        "  \"Funkcja sortująca listę według ilości liter w słowach\"\n",
        "  lista.sort(key=len)\n",
        "\n",
        "help(amount_letters_in_word_sort)\n",
        "print(amount_words_in_name_sort(usa_cities))"
      ],
      "execution_count": 0,
      "outputs": []
    },
    {
      "cell_type": "code",
      "metadata": {
        "id": "ZXpxORngSTDh",
        "colab_type": "code",
        "colab": {}
      },
      "source": [
        "usa_cities"
      ],
      "execution_count": 0,
      "outputs": []
    }
  ]
}
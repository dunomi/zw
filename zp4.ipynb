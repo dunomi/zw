{
  "nbformat": 4,
  "nbformat_minor": 0,
  "metadata": {
    "colab": {
      "name": "zp4.ipynb",
      "provenance": [],
      "authorship_tag": "ABX9TyO3fn1do6Ch4rsdEo/D9Nf5",
      "include_colab_link": true
    },
    "kernelspec": {
      "name": "python3",
      "display_name": "Python 3"
    }
  },
  "cells": [
    {
      "cell_type": "markdown",
      "metadata": {
        "id": "view-in-github",
        "colab_type": "text"
      },
      "source": [
        "<a href=\"https://colab.research.google.com/github/dunomi/zw/blob/master/zp4.ipynb\" target=\"_parent\"><img src=\"https://colab.research.google.com/assets/colab-badge.svg\" alt=\"Open In Colab\"/></a>"
      ]
    },
    {
      "cell_type": "code",
      "metadata": {
        "id": "p6qxYH8BCZlw",
        "colab_type": "code",
        "colab": {}
      },
      "source": [
        "import pandas as pd\n",
        "import numpy as np\n",
        "import random\n",
        "\n",
        "usa = pd.read_csv(\"https://raw.githubusercontent.com/plotly/datasets/master/2014_us_cities.csv\")\n",
        "usa_cities=usa.name.tolist()\n",
        "usa_pop=usa['pop'].tolist()\n",
        "\n",
        "cars = pd.read_csv(\"https://raw.githubusercontent.com/plotly/datasets/master/mtcars.csv\")\n",
        "cars_hp=cars[['manufacturer','hp']]\n",
        "\n",
        "uber_rides = pd.read_csv(\"https://raw.githubusercontent.com/plotly/datasets/master/uber-rides-data1.csv\")"
      ],
      "execution_count": 0,
      "outputs": []
    },
    {
      "cell_type": "code",
      "metadata": {
        "id": "Ouq84mRsCbQ6",
        "colab_type": "code",
        "colab": {}
      },
      "source": [
        "def amount_vovel_sort(lista):\n",
        "  \"Funkcja sortująca liste według ilość samogłosek w słowach\"\n",
        "  lista.sort(key = lambda word: sum(i in 'aeiou' for i in word),\n",
        "             reverse=True)\n",
        "  return lista\n",
        "\n",
        "#help(amount_vovel_sort)\n",
        "#print(amount_vovel_sort(usa_cities))"
      ],
      "execution_count": 0,
      "outputs": []
    },
    {
      "cell_type": "code",
      "metadata": {
        "id": "OigPITCWCbO-",
        "colab_type": "code",
        "colab": {}
      },
      "source": [
        "def amount_words_in_name_sort(lista):\n",
        "  \"Funkcja sortująca malejąco liste według ilość członów odzielonych sapacjami\"\n",
        "  lista.sort(key=lambda word: len(word.split()),\n",
        "             reverse=True)\n",
        "  return lista\n",
        "\n",
        "#help(amount_words_in_name_sort)\n",
        "#print(amount_words_in_name_sort(usa_cities))"
      ],
      "execution_count": 0,
      "outputs": []
    },
    {
      "cell_type": "code",
      "metadata": {
        "id": "DQUpE9ufQaFm",
        "colab_type": "code",
        "colab": {}
      },
      "source": [
        "def amount_letters_in_word_sort(lista):\n",
        "  \"Funkcja sortująca listę według ilości liter w słowach\"\n",
        "  lista.sort(key=len)\n",
        "\n",
        "#help(amount_letters_in_word_sort)\n",
        "#print(amount_words_in_name_sort(usa_cities))"
      ],
      "execution_count": 0,
      "outputs": []
    },
    {
      "cell_type": "code",
      "metadata": {
        "id": "ZXpxORngSTDh",
        "colab_type": "code",
        "colab": {}
      },
      "source": [
        "def words_sorting(lista):\n",
        "  \"Funkcja sortująca elemnty w liście. Dla napisów będzie to sortowanie alfabetyczne\"\n",
        "  lista2=[''.join(sorted(i)) for i in lista]\n",
        "  return lista2\n",
        "\n",
        "#help(words_sorting)\n",
        "#print(words_sorting(usa_cities))"
      ],
      "execution_count": 0,
      "outputs": []
    },
    {
      "cell_type": "code",
      "metadata": {
        "id": "ZohPAC7lV14o",
        "colab_type": "code",
        "colab": {}
      },
      "source": [
        "usa_dict=dict(zip(usa_cities,usa_pop))\n",
        "\n",
        "def dict_sorting_by_values(slownik):\n",
        "  \"Funkcja sortująca klucze słownika według wartości\"\n",
        "  k=sorted(slownik.items(), \n",
        "           key = lambda i: i[1],\n",
        "           reverse=True)\n",
        "  return dict(k)\n",
        "\n",
        "#help(dict_sorting_by_values)\n",
        "#print(dict_sorting_by_values(usa_dict))"
      ],
      "execution_count": 0,
      "outputs": []
    },
    {
      "cell_type": "code",
      "metadata": {
        "id": "7RgghSAnV17v",
        "colab_type": "code",
        "colab": {}
      },
      "source": [
        "def list1_by_list2_sort(lista1,lista2):\n",
        "  \"Funkcja sortująca rosnąco liste1 według wartosci z listy2\"\n",
        "  l = [x for _,x in sorted(zip(lista2,lista1))]\n",
        "  return l\n",
        "\n",
        "\n",
        "#help(list1_by_list2_sort)\n",
        "#print(list1_by_list2_sort(cars.manufacturer.tolist(),cars_hp.hp.tolist()))"
      ],
      "execution_count": 0,
      "outputs": []
    },
    {
      "cell_type": "code",
      "metadata": {
        "id": "nXGM8fRJLtEy",
        "colab_type": "code",
        "colab": {}
      },
      "source": [
        "dates=[i[0:10] for i in uber_rides['Date/Time']]\n",
        "random.shuffle(dates)\n",
        "\n",
        "def str_sort(daty):\n",
        "  \"Funkcja sortująca liste dat formatu 'YYYY-MM-DD', które są typu string\"\n",
        "  l=[int(i.replace('-','')) for i in daty]\n",
        "  l.sort()\n",
        "  return [str(x)[0:4]+'-'+str(x)[4:6]+'-'+str(x)[6:8] for x in l]\n",
        "\n",
        "#help(str_sort)\n",
        "#print(str_sort(dates[0:50]))"
      ],
      "execution_count": 0,
      "outputs": []
    },
    {
      "cell_type": "code",
      "metadata": {
        "id": "2HhRyObMN3hn",
        "colab_type": "code",
        "colab": {}
      },
      "source": [
        "def number_by_sum_digits_sort(lista):\n",
        "  \"Funkcja sortująca liste zawierającą liczby według sumy cyfr\"\n",
        "  x=[]\n",
        "  for word in lista:\n",
        "    x.append(sum([int(digit) for digit in str(word)]))\n",
        "  return [a for _,a in sorted(zip(x,lista))]\n",
        "\n",
        "#help(number_by_sum_digits_sort)\n",
        "#print(number_by_sum_digits_sort(usa_pop))"
      ],
      "execution_count": 0,
      "outputs": []
    },
    {
      "cell_type": "code",
      "metadata": {
        "id": "aPne9ZK3KoNU",
        "colab_type": "code",
        "colab": {}
      },
      "source": [
        ""
      ],
      "execution_count": 0,
      "outputs": []
    }
  ]
}
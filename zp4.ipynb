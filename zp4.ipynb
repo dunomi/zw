{
  "nbformat": 4,
  "nbformat_minor": 0,
  "metadata": {
    "colab": {
      "name": "zp4.ipynb",
      "provenance": [],
      "authorship_tag": "ABX9TyPviop1lKabknR3I/g2GOen",
      "include_colab_link": true
    },
    "kernelspec": {
      "name": "python3",
      "display_name": "Python 3"
    }
  },
  "cells": [
    {
      "cell_type": "markdown",
      "metadata": {
        "id": "view-in-github",
        "colab_type": "text"
      },
      "source": [
        "<a href=\"https://colab.research.google.com/github/dunomi/zw/blob/master/zp4.ipynb\" target=\"_parent\"><img src=\"https://colab.research.google.com/assets/colab-badge.svg\" alt=\"Open In Colab\"/></a>"
      ]
    },
    {
      "cell_type": "code",
      "metadata": {
        "id": "p6qxYH8BCZlw",
        "colab_type": "code",
        "colab": {}
      },
      "source": [
        "import pandas as pd\n",
        "import numpy as np\n",
        "import random\n",
        "\n",
        "usa = pd.read_csv(\"https://raw.githubusercontent.com/plotly/datasets/master/2014_us_cities.csv\")\n",
        "usa_cities=usa.name.tolist()\n",
        "usa_pop=usa['pop'].tolist()\n",
        "\n",
        "cars = pd.read_csv(\"https://raw.githubusercontent.com/plotly/datasets/master/mtcars.csv\")\n",
        "cars_hp=cars[['manufacturer','hp']]\n",
        "\n",
        "uber_rides = pd.read_csv(\"https://raw.githubusercontent.com/plotly/datasets/master/uber-rides-data1.csv\")"
      ],
      "execution_count": 0,
      "outputs": []
    },
    {
      "cell_type": "code",
      "metadata": {
        "id": "Ouq84mRsCbQ6",
        "colab_type": "code",
        "colab": {}
      },
      "source": [
        "def amount_vovel_sort(lista):\n",
        "  \"Funkcja sortująca liste według ilość samogłosek w słowach\"\n",
        "  if sum([isinstance(i,str) for i in lista])!=len(lista):\n",
        "    raise Exception(\"Lista musi zawierać tylko elementy typu str\")\n",
        "  lista.sort(key = lambda word: sum(i in 'aeiou' for i in word),\n",
        "             reverse=True)\n",
        "  return lista\n",
        "\n",
        "#help(amount_vovel_sort)\n",
        "#print(amount_vovel_sort(usa_cities))\n",
        "#print(amount_vovel_sort(['Bartek','Brutus','Hektor',2])) #wyświetli bład opisany w funkcji"
      ],
      "execution_count": 0,
      "outputs": []
    },
    {
      "cell_type": "code",
      "metadata": {
        "id": "OigPITCWCbO-",
        "colab_type": "code",
        "colab": {}
      },
      "source": [
        "def amount_words_in_name_sort(lista):\n",
        "  \"Funkcja sortująca malejąco liste według ilość członów odzielonych sapacjami\"\n",
        "  if sum([isinstance(i,str) for i in lista])!=len(lista):\n",
        "    raise Exception(\"Lista musi zawierać tylko elementy typu str\")\n",
        "  lista.sort(key=lambda word: len(word.split()),\n",
        "             reverse=True)\n",
        "  return lista\n",
        "\n",
        "#help(amount_words_in_name_sort)\n",
        "#print(amount_words_in_name_sort(usa_cities))\n",
        "#print(amount_words_in_name_sort(['Bartek','Brutus','Hektor',2])) #wyświetli bład opisany w funkcji"
      ],
      "execution_count": 0,
      "outputs": []
    },
    {
      "cell_type": "code",
      "metadata": {
        "id": "DQUpE9ufQaFm",
        "colab_type": "code",
        "colab": {}
      },
      "source": [
        "def amount_letters_in_word_sort(lista):\n",
        "  \"Funkcja sortująca listę według ilości liter w słowach\"\n",
        "  if sum([isinstance(i,str) for i in lista])!=len(lista):\n",
        "    raise Exception(\"Lista musi zawierać tylko elementy typu str\")\n",
        "  lista.sort(key=len)\n",
        "  return lista\n",
        "\n",
        "#help(amount_letters_in_word_sort)\n",
        "#print(amount_letters_in_word_sort(usa_cities))\n",
        "#print(amount_letters_in_word_sort(['Bartek','Brutus','Hektor',2])) #wyświetli bład opisany w funkcji"
      ],
      "execution_count": 0,
      "outputs": []
    },
    {
      "cell_type": "code",
      "metadata": {
        "id": "ZXpxORngSTDh",
        "colab_type": "code",
        "colab": {}
      },
      "source": [
        "def words_sorting(lista):\n",
        "  \"Funkcja sortująca litery każdego słowa w liście\"\n",
        "  if sum([isinstance(i,str) for i in lista])!=len(lista):\n",
        "    raise Exception(\"Lista musi zawierać tylko elementy typu str\")\n",
        "  lista2=[''.join(sorted(i.lower())) for i in lista]\n",
        "  return lista2\n",
        "\n",
        "#help(words_sorting)\n",
        "#print(words_sorting(usa_cities))\n",
        "#print(words_sorting(['Bartek','Brutus','Hektor',2])) #wyświetli bład opisany w funkcji"
      ],
      "execution_count": 0,
      "outputs": []
    },
    {
      "cell_type": "code",
      "metadata": {
        "id": "ZohPAC7lV14o",
        "colab_type": "code",
        "colab": {}
      },
      "source": [
        "usa_dict=dict(zip(usa_cities,usa_pop))\n",
        "\n",
        "def dict_sorting_by_values(slownik):\n",
        "  \"Funkcja sortująca klucze słownika według wartości\"\n",
        "  if isinstance(slownik,dict)!=True:\n",
        "    raise Exception(\"Objekt musi być typu dict (słownik)\")\n",
        "\n",
        "  k=sorted(slownik.items(), \n",
        "           key = lambda i: i[1],\n",
        "           reverse=True)\n",
        "  return dict(k)\n",
        "\n",
        "#help(dict_sorting_by_values)\n",
        "#print(dict_sorting_by_values(usa_dict))\n",
        "#print(dict_sorting_by_values(usa_cities))"
      ],
      "execution_count": 0,
      "outputs": []
    },
    {
      "cell_type": "code",
      "metadata": {
        "id": "7RgghSAnV17v",
        "colab_type": "code",
        "colab": {}
      },
      "source": [
        "def list1_by_list2_sort(lista1,lista2):\n",
        "  \"Funkcja sortująca rosnąco liste1 według wartosci z listy2\"\n",
        "  if isinstance(lista1,list)+isinstance(lista2,list)!=2:\n",
        "    raise Exception(\"Objekty muszą być typu lista\")\n",
        "  elif len(lista1)!=len(lista2):\n",
        "    raise Exception(\"Listy muszą być tego samego rozmiaru\")\n",
        "\n",
        "  l = [x for _,x in sorted(zip(lista2,lista1))]\n",
        "  return l\n",
        "\n",
        "#help(list1_by_list2_sort)\n",
        "print(list1_by_list2_sort(cars.manufacturer.tolist(),cars_hp.hp.tolist()))\n",
        "print(list1_by_list2_sort([1,1,2,4,6,2],[2,13,1]))"
      ],
      "execution_count": 0,
      "outputs": []
    },
    {
      "cell_type": "code",
      "metadata": {
        "id": "nXGM8fRJLtEy",
        "colab_type": "code",
        "colab": {}
      },
      "source": [
        "dates=[i[0:7] for i in uber_rides['Date/Time']]\n",
        "random.shuffle(dates)\n",
        "\n",
        "def str_sort(daty):\n",
        "  \"Funkcja sortująca liste dat formatu 'YYYY-MM', które są typu string\"\n",
        "\n",
        "  if isinstance(daty,list)!=True:\n",
        "    raise Exception(\"Lista musi zawierać elementy typu str reprezentujące daty postaci 'YYYY-MM'\")\n",
        "  elif sum([(isinstance(int(x[0:4]),int) and  0<int(x[5:7]) and int(x[5:7])<13)==True for x in daty])!=len(daty):\n",
        "    raise Exception(\"Lista musi zawierać elementy typu str reprezentujące daty postaci 'YYYY-MM'\")\n",
        "\n",
        "  l=[int(i.replace('-','')) for i in daty]\n",
        "  l.sort()\n",
        "  return [str(x)[0:4]+'-'+str(x)[4:6] for x in l]\n",
        "\n",
        "#help(str_sort)\n",
        "#print(str_sort(dates[0:50]))\n",
        "#print(str_sort(['2015-05','2020-13']))"
      ],
      "execution_count": 0,
      "outputs": []
    },
    {
      "cell_type": "code",
      "metadata": {
        "id": "2HhRyObMN3hn",
        "colab_type": "code",
        "colab": {}
      },
      "source": [
        "def number_by_sum_digits_sort(lista):\n",
        "  \"Funkcja sortująca liste zawierającą liczby według sumy cyfr\"\n",
        "  x=[]\n",
        "  for word in lista:\n",
        "    x.append(sum([int(digit) for digit in str(word)]))\n",
        "  return [a for _,a in sorted(zip(x,lista))]\n",
        "\n",
        "#help(number_by_sum_digits_sort)\n",
        "#print(number_by_sum_digits_sort(usa_pop))"
      ],
      "execution_count": 0,
      "outputs": []
    },
    {
      "cell_type": "code",
      "metadata": {
        "id": "aPne9ZK3KoNU",
        "colab_type": "code",
        "colab": {}
      },
      "source": [
        "def number_reverse_sort(lista):\n",
        "  \"Funkcja sortująca liste zawierającą liczby, odracając cyfry kolejnością, następnie sortując\"\n",
        "  lista_reverse=[int(str(i)[::-1]) for i in lista]\n",
        "  lista_reverse.sort()\n",
        "  lista_reverse_back=[int(str(i)[::-1]) for i in lista_reverse]\n",
        "  return lista_reverse_back\n",
        "\n",
        "#help(number_reverse_sort)\n",
        "#print(number_reverse_sort(usa_pop))"
      ],
      "execution_count": 0,
      "outputs": []
    },
    {
      "cell_type": "code",
      "metadata": {
        "id": "v-R_5mVsMy10",
        "colab_type": "code",
        "colab": {}
      },
      "source": [
        "def random_sort(lista):\n",
        "  \"Funkcja sortująca liste w losowy sposób\"\n",
        "  random.shuffle(lista)\n",
        "  return lista\n",
        "\n",
        "help(random_sort)\n",
        "print(random_sort(usa_pop))"
      ],
      "execution_count": 0,
      "outputs": []
    }
  ]
}
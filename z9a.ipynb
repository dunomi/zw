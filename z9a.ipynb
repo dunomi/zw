{
  "nbformat": 4,
  "nbformat_minor": 0,
  "metadata": {
    "colab": {
      "name": "Untitled2.ipynb",
      "provenance": [],
      "authorship_tag": "ABX9TyOMT9sTchE0pZsDkpGFQ+6/",
      "include_colab_link": true
    },
    "kernelspec": {
      "name": "python3",
      "display_name": "Python 3"
    }
  },
  "cells": [
    {
      "cell_type": "markdown",
      "metadata": {
        "id": "view-in-github",
        "colab_type": "text"
      },
      "source": [
        "<a href=\"https://colab.research.google.com/github/dunomi/zw/blob/master/z9a.ipynb\" target=\"_parent\"><img src=\"https://colab.research.google.com/assets/colab-badge.svg\" alt=\"Open In Colab\"/></a>"
      ]
    },
    {
      "cell_type": "code",
      "metadata": {
        "id": "4I1TPzdQEmAA",
        "colab_type": "code",
        "colab": {}
      },
      "source": [
        "import numpy as np\n",
        "import pandas as pd\n",
        "import matplotlib.pyplot as plt\n",
        "import math\n",
        "import statsmodels.api as sm\n",
        "\n",
        "import plotly.express as px\n",
        "import plotly.graph_objects as go\n",
        "from plotly.subplots import make_subplots\n",
        "\n",
        "ConfirmedCases_raw=pd.read_csv('https://raw.githubusercontent.com/dunomi/dunomi/master/virus_cases.csv')\n",
        "USA_state_names= pd.read_csv('https://raw.githubusercontent.com/dunomi/dunomi/master/states.csv')\n",
        "USA_humidity_row=pd.read_csv('https://raw.githubusercontent.com/dunomi/dunomi/master/USA_humidity.csv?token=AO3BJXHYBDBENHN2JIXXFGC6POTP2')\n",
        "USA_temperature_row=pd.read_csv('https://raw.githubusercontent.com/dunomi/dunomi/master/USA_temperature.csv?token=AO3BJXFW6K5G6GYWHX5I2GC6POTVA')"
      ],
      "execution_count": 0,
      "outputs": []
    },
    {
      "cell_type": "code",
      "metadata": {
        "id": "C2dbDQquE-Td",
        "colab_type": "code",
        "colab": {}
      },
      "source": [
        "USA=ConfirmedCases_raw[ConfirmedCases_raw['Country/Region']=='US'].reset_index().drop(['index','Country/Region','Lat','Long'],axis=1)\n",
        "#USA.sum(axis = 0, skipna = True)[1:]>10\n",
        "USA=USA.head(52)\n",
        "USA=USA[~USA['Province/State'].isin(['Diamond Princess','Grand Princess'])].reset_index().drop('index',axis=1)\n",
        "\n",
        "USAcases=pd.DataFrame(columns=['Stan','Przyrosty','Data'])\n",
        "\n",
        "for i in range(len(USA)):\n",
        "  Date=USA.loc[i][USA.loc[i][0:]!=0].index[1]\n",
        "  stateName=USA.loc[i][0]\n",
        "  stateValue=USA.loc[i][1:].tolist()\n",
        "  stateSum=[i for i in stateValue if i>0]\n",
        "  stateSumArray=np.array(stateSum[1:7])/np.array(stateSum[0:6])\n",
        "  stateSumArray=np.array([round(i,2) for i in stateSumArray])\n",
        "  USAcases=USAcases.append(pd.DataFrame([[stateName,stateSumArray,Date]],columns=['Stan','Przyrosty','Data']))\n",
        "USAcases=USAcases.reset_index().drop('index',axis=1)[['Stan','Data','Przyrosty']]\n",
        "\n",
        "USAweather=pd.DataFrame(columns=['Stan','Temperatura','Wilgotnosc'])\n",
        "\n",
        "for i in range(len(USA_temperature_row)):\n",
        "  stateName=USA_temperature_row.loc[i][0]\n",
        "  temp=np.array(USA_temperature_row.loc[i][3:])\n",
        "  wilg=np.array(USA_humidity_row.loc[i][3:])/100\n",
        "  USAweather=USAweather.append(pd.DataFrame([[stateName,temp,wilg]],columns=['Stan','Temperatura','Wilgotnosc']))\n",
        "USAdata=pd.merge(USAcases,USAweather)\n",
        "\n",
        "USAcumdata=pd.DataFrame(columns=['Stan','Przyrosty','Temperatura','Wilgotnosc'])\n",
        "for i in range(0,len(USAdata)):\n",
        "  stateName=USAdata.loc[i][0]\n",
        "  przy=np.cumprod(USAdata['Przyrosty'][i])[5]\n",
        "  temp=USAdata.Temperatura[i].mean()\n",
        "  wilg=USAdata.Wilgotnosc[i].mean()\n",
        "  USAcumdata=USAcumdata.append(pd.DataFrame([[stateName,przy,temp,wilg]],columns=['Stan','Przyrosty','Temperatura','Wilgotnosc']))\n",
        "\n",
        "#USAcumdata.loc[USAcumdata.Przyrosty > 50, 'Przyrosty'] = max(USAcumdata.loc[USAcumdata.Przyrosty < 50].Przyrosty)\n",
        "\n",
        "for i in range(len(USAdata)):\n",
        "  USAdata.loc[i, 'Temperatura_cor']=np.corrcoef(USAdata.Przyrosty[i],USAdata.Temperatura[i][0:6].astype(float))[0,1]\n",
        "  USAdata.loc[i, 'Wilgotnosc_cor']=np.corrcoef(USAdata.Przyrosty[i],USAdata.Wilgotnosc[i][0:6].astype(float))[0,1]\n",
        "\n",
        "  USAdata.loc[i, 'Temperatura_cor_wsp_ols']=sm.OLS(USAdata['Przyrosty'][i].tolist(),sm.add_constant(USAdata['Temperatura'][i][0:6].tolist())).fit().params[1]\n",
        "  USAdata.loc[i, 'Wilgotnosc_cor_wsp_ols']=sm.OLS(USAdata['Przyrosty'][i].tolist(),sm.add_constant(USAdata['Wilgotnosc'][i][0:6].tolist())).fit().params[1]\n",
        "\n",
        "  USAdata.loc[i, 'Przyrosty_wykres_osY']=(max(USAdata.Przyrosty[i])-min(USAdata.Przyrosty[i]))/2\n",
        "  USAdata.loc[i, 'Temperatura_wykres_osX']=(max(USAdata.Temperatura[i])-min(USAdata.Temperatura[i]))/2\n",
        "  USAdata.loc[i, 'Wilgotnosc_wykres_osX']=(max(USAdata.Wilgotnosc[i])-min(USAdata.Wilgotnosc[i]))/2"
      ],
      "execution_count": 0,
      "outputs": []
    },
    {
      "cell_type": "markdown",
      "metadata": {
        "id": "ycEqRednLsZD",
        "colab_type": "text"
      },
      "source": [
        "**Wykres 1**\n",
        "\n",
        "Poniżej prezentują się zbiory wykresów na których na osi X znajduje się odpowiednio Temperatura (dla górnego wykresu) i Wilgotnośc (dla dolnego wykresu), a na osi Y Przyrost zachorowań. Każdy wykres dla innego stanu. Prosta linia to regresja liniowa wyznaczona dla Przyrostów i Temperatury/Wilgotności."
      ]
    },
    {
      "cell_type": "code",
      "metadata": {
        "id": "sBIbaqgMFFqZ",
        "colab_type": "code",
        "colab": {}
      },
      "source": [
        "def plot_maker(Data,Temperatura_lub_Wilgotnosc):\n",
        "  \n",
        "  RangeY_max=max(Data['Przyrosty_wykres_osY'].tolist())\n",
        "  RangeX_max=max(Data[Temperatura_lub_Wilgotnosc+'_wykres_osX'].tolist())\n",
        "\n",
        "  fig = make_subplots(rows=10, cols=5, shared_xaxes=False,  x_title=Temperatura_lub_Wilgotnosc, y_title='Przyrosty',)\n",
        "  for i in range(0,len(Data)):\n",
        "    x=Data.loc[i]\n",
        "\n",
        "    RangeY=[min(x['Przyrosty'])+x['Przyrosty_wykres_osY']-RangeY_max,\n",
        "            min(x['Przyrosty'])+x['Przyrosty_wykres_osY']+RangeY_max]  \n",
        "    RangeX=[min(x[Temperatura_lub_Wilgotnosc])+x[Temperatura_lub_Wilgotnosc+'_wykres_osX']-RangeX_max,\n",
        "            min(x[Temperatura_lub_Wilgotnosc])+x[Temperatura_lub_Wilgotnosc+'_wykres_osX']+RangeX_max]\n",
        "\n",
        "    figX = px.scatter(x=x[Temperatura_lub_Wilgotnosc].tolist()[0:6],\n",
        "                      y=x['Przyrosty'].tolist(),\n",
        "                      trendline=\"ols\")\n",
        "\n",
        "\n",
        "    tracePoints = figX['data'][0]\n",
        "    traceTradeline = figX['data'][1]\n",
        "\n",
        "    fig.add_trace(tracePoints, row=math.floor(i/5)+1, col=i%5+1)\n",
        "    fig.add_trace(traceTradeline, row=math.floor(i/5)+1, col=i%5+1)\n",
        "\n",
        "    fig.update_yaxes(range=[0, 5], row=math.floor(i/5)+1, col=i%5+1)\n",
        "    fig.update_xaxes(range=RangeX, row=math.floor(i/5)+1, col=i%5+1)\n",
        "\n",
        "\n",
        "  fig['layout'].update(height=1500, width=1000, showlegend=False, title=Temperatura_lub_Wilgotnosc)\n",
        "\n",
        "  return fig.show()\n",
        "\n",
        "#Wykresy posortowane po współczynniku regresji liniowej\n",
        "plot_maker(USAdata.sort_values(by='Temperatura_cor_wsp_ols').reset_index().drop(columns='index'),'Temperatura')\n",
        "plot_maker(USAdata.sort_values(by='Wilgotnosc_cor_wsp_ols').reset_index().drop(columns='index'),'Wilgotnosc')"
      ],
      "execution_count": 0,
      "outputs": []
    },
    {
      "cell_type": "code",
      "metadata": {
        "id": "OFe9vcxbFI6Z",
        "colab_type": "code",
        "colab": {}
      },
      "source": [
        ""
      ],
      "execution_count": 0,
      "outputs": []
    },
    {
      "cell_type": "code",
      "metadata": {
        "id": "neMbhNoLFKgL",
        "colab_type": "code",
        "colab": {}
      },
      "source": [
        ""
      ],
      "execution_count": 0,
      "outputs": []
    },
    {
      "cell_type": "code",
      "metadata": {
        "id": "c0Uv391RIFx7",
        "colab_type": "code",
        "colab": {}
      },
      "source": [
        ""
      ],
      "execution_count": 0,
      "outputs": []
    }
  ]
}
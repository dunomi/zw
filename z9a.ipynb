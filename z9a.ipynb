{
  "nbformat": 4,
  "nbformat_minor": 0,
  "metadata": {
    "colab": {
      "name": "Untitled2.ipynb",
      "provenance": [],
      "authorship_tag": "ABX9TyNlHeygJKVhVFM2bCn2Sdii",
      "include_colab_link": true
    },
    "kernelspec": {
      "name": "python3",
      "display_name": "Python 3"
    }
  },
  "cells": [
    {
      "cell_type": "markdown",
      "metadata": {
        "id": "view-in-github",
        "colab_type": "text"
      },
      "source": [
        "<a href=\"https://colab.research.google.com/github/dunomi/zw/blob/master/z9a.ipynb\" target=\"_parent\"><img src=\"https://colab.research.google.com/assets/colab-badge.svg\" alt=\"Open In Colab\"/></a>"
      ]
    },
    {
      "cell_type": "code",
      "metadata": {
        "id": "4I1TPzdQEmAA",
        "colab_type": "code",
        "colab": {}
      },
      "source": [
        "import numpy as np\n",
        "import pandas as pd\n",
        "import matplotlib.pyplot as plt\n",
        "import math\n",
        "import statsmodels.api as sm\n",
        "\n",
        "import plotly.express as px\n",
        "import plotly.graph_objects as go\n",
        "from plotly.subplots import make_subplots\n",
        "\n",
        "ConfirmedCases_raw=pd.read_csv('https://raw.githubusercontent.com/dunomi/dunomi/master/virus_cases.csv')\n",
        "USA_state_names= pd.read_csv('https://raw.githubusercontent.com/dunomi/dunomi/master/states.csv')\n",
        "USA_humidity_row=pd.read_csv('https://raw.githubusercontent.com/dunomi/dunomi/master/USA_humidity.csv?token=AO3BJXHYBDBENHN2JIXXFGC6POTP2')\n",
        "USA_temperature_row=pd.read_csv('https://raw.githubusercontent.com/dunomi/dunomi/master/USA_temperature.csv?token=AO3BJXFW6K5G6GYWHX5I2GC6POTVA')"
      ],
      "execution_count": 0,
      "outputs": []
    },
    {
      "cell_type": "code",
      "metadata": {
        "id": "C2dbDQquE-Td",
        "colab_type": "code",
        "colab": {}
      },
      "source": [
        "USA=ConfirmedCases_raw[ConfirmedCases_raw['Country/Region']=='US'].reset_index().drop(['index','Country/Region','Lat','Long'],axis=1)\n",
        "#USA.sum(axis = 0, skipna = True)[1:]>10\n",
        "USA=USA.head(52)\n",
        "USA=USA[~USA['Province/State'].isin(['Diamond Princess','Grand Princess'])].reset_index().drop('index',axis=1)\n",
        "USA"
      ],
      "execution_count": 0,
      "outputs": []
    },
    {
      "cell_type": "code",
      "metadata": {
        "id": "oLCj-pBdFC89",
        "colab_type": "code",
        "colab": {}
      },
      "source": [
        "USAcases=pd.DataFrame(columns=['Stan','Przyrosty','Data'])\n",
        "\n",
        "for i in range(len(USA)):\n",
        "  Date=USA.loc[i][USA.loc[i][0:]!=0].index[1]\n",
        "  stateName=USA.loc[i][0]\n",
        "  stateValue=USA.loc[i][1:].tolist()\n",
        "  stateSum=[i for i in stateValue if i>0]\n",
        "  stateSumArray=np.array(stateSum[1:7])/np.array(stateSum[0:6])\n",
        "  stateSumArray=np.array([round(i,2) for i in stateSumArray])\n",
        "  USAcases=USAcases.append(pd.DataFrame([[stateName,stateSumArray,Date]],columns=['Stan','Przyrosty','Data']))\n",
        "\n",
        "USAcases=USAcases.reset_index().drop('index',axis=1)[['Stan','Data','Przyrosty']]\n"
      ],
      "execution_count": 0,
      "outputs": []
    },
    {
      "cell_type": "code",
      "metadata": {
        "id": "sBIbaqgMFFqZ",
        "colab_type": "code",
        "colab": {}
      },
      "source": [
        "USAweather=pd.DataFrame(columns=['Stan','Temperatura','Wilgotnosc'])\n",
        "\n",
        "for i in range(len(USA_temperature_row)):\n",
        "  stateName=USA_temperature_row.loc[i][0]\n",
        "  temp=np.array(USA_temperature_row.loc[i][3:])\n",
        "  wilg=np.array(USA_humidity_row.loc[i][3:])/100\n",
        "\n",
        "  USAweather=USAweather.append(pd.DataFrame([[stateName,temp,wilg]],columns=['Stan','Temperatura','Wilgotnosc']))\n",
        "  \n",
        "USAdata=pd.merge(USAcases,USAweather)"
      ],
      "execution_count": 0,
      "outputs": []
    },
    {
      "cell_type": "code",
      "metadata": {
        "id": "OFe9vcxbFI6Z",
        "colab_type": "code",
        "colab": {}
      },
      "source": [
        "USAcumdata=pd.DataFrame(columns=['Stan','Przyrosty','Temperatura','Wilgotnosc'])\n",
        "for i in range(0,len(USAdata)):\n",
        "  stateName=USAdata.loc[i][0]\n",
        "  przy=np.cumprod(USAdata['Przyrosty'][i])[5]\n",
        "  temp=USAdata.Temperatura[i].mean()\n",
        "  wilg=USAdata.Wilgotnosc[i].mean()\n",
        "  USAcumdata=USAcumdata.append(pd.DataFrame([[stateName,przy,temp,wilg]],columns=['Stan','Przyrosty','Temperatura','Wilgotnosc']))\n",
        "\n",
        "#USAcumdata.loc[USAcumdata.Przyrosty > 50, 'Przyrosty'] = max(USAcumdata.loc[USAcumdata.Przyrosty < 50].Przyrosty)"
      ],
      "execution_count": 0,
      "outputs": []
    },
    {
      "cell_type": "code",
      "metadata": {
        "id": "neMbhNoLFKgL",
        "colab_type": "code",
        "colab": {}
      },
      "source": [
        "for i in range(len(USAdata)):\n",
        "  USAdata.loc[i, 'Temperatura_cor']=np.corrcoef(USAdata.Przyrosty[i],USAdata.Temperatura[i][0:6].astype(float))[0,1]\n",
        "  USAdata.loc[i, 'Wilgotnosc_cor']=np.corrcoef(USAdata.Przyrosty[i],USAdata.Wilgotnosc[i][0:6].astype(float))[0,1]\n",
        "\n",
        "  USAdata.loc[i, 'Temperatura_cor_wsp_ols']=sm.OLS(USAdata['Przyrosty'][i].tolist(),sm.add_constant(USAdata['Temperatura'][i][0:6].tolist())).fit().params[1]\n",
        "  USAdata.loc[i, 'Wilgotnosc_cor_wsp_ols']=sm.OLS(USAdata['Przyrosty'][i].tolist(),sm.add_constant(USAdata['Wilgotnosc'][i][0:6].tolist())).fit().params[1]\n",
        "\n",
        "  USAdata.loc[i, 'Przyrosty_wykres_osY']=(max(USAdata.Przyrosty[i])-min(USAdata.Przyrosty[i]))/2\n",
        "  USAdata.loc[i, 'Temperatura_wykres_osX']=(max(USAdata.Temperatura[i])-min(USAdata.Temperatura[i]))/2\n",
        "  USAdata.loc[i, 'Wilgotnosc_wykres_osX']=(max(USAdata.Wilgotnosc[i])-min(USAdata.Wilgotnosc[i]))/2"
      ],
      "execution_count": 0,
      "outputs": []
    },
    {
      "cell_type": "code",
      "metadata": {
        "id": "LkpEMUA4Fuxf",
        "colab_type": "code",
        "colab": {}
      },
      "source": [
        "USAdata.to_csv(index=True)\n",
        "writer = pd.ExcelWriter('hey.xlsx')\n",
        "USAdata.to_excel(writer)\n",
        "writer.save()"
      ],
      "execution_count": 0,
      "outputs": []
    },
    {
      "cell_type": "code",
      "metadata": {
        "id": "c0Uv391RIFx7",
        "colab_type": "code",
        "colab": {}
      },
      "source": [
        "from google.colab import drive\n",
        "drive.mount('/content/drive')"
      ],
      "execution_count": 0,
      "outputs": []
    }
  ]
}
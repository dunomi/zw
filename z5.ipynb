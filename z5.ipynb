{
  "nbformat": 4,
  "nbformat_minor": 0,
  "metadata": {
    "colab": {
      "name": "z5",
      "provenance": [],
      "authorship_tag": "ABX9TyMF07k/I69GKOD+bBWyD7LC",
      "include_colab_link": true
    },
    "kernelspec": {
      "name": "python3",
      "display_name": "Python 3"
    }
  },
  "cells": [
    {
      "cell_type": "markdown",
      "metadata": {
        "id": "view-in-github",
        "colab_type": "text"
      },
      "source": [
        "<a href=\"https://colab.research.google.com/github/dunomi/zw/blob/master/z5.ipynb\" target=\"_parent\"><img src=\"https://colab.research.google.com/assets/colab-badge.svg\" alt=\"Open In Colab\"/></a>"
      ]
    },
    {
      "cell_type": "markdown",
      "metadata": {
        "id": "OS9u7opYmlHB",
        "colab_type": "text"
      },
      "source": [
        "Import bibliotek i stworzenie listy i array"
      ]
    },
    {
      "cell_type": "code",
      "metadata": {
        "id": "yakCYAoKTnEh",
        "colab_type": "code",
        "colab": {
          "base_uri": "https://localhost:8080/",
          "height": 146
        },
        "outputId": "967ffef8-3664-4b37-f40c-b33355f62bb3"
      },
      "source": [
        "import numpy as np\n",
        "import timeit\n",
        "\n",
        "ar=np.random.random(30)\n",
        "li=np.random.random(30).tolist()\n",
        "\n",
        "print(ar)\n",
        "print(li)"
      ],
      "execution_count": 98,
      "outputs": [
        {
          "output_type": "stream",
          "text": [
            "[0.17764092 0.77845461 0.65992612 0.07166589 0.19273275 0.83593278\n",
            " 0.63008445 0.37922633 0.23459667 0.3518804  0.58231853 0.53123212\n",
            " 0.07167164 0.12372736 0.11360184 0.8457429  0.63908151 0.17072715\n",
            " 0.05941828 0.17396436 0.91411279 0.59133944 0.70704604 0.10274481\n",
            " 0.68632799 0.41955758 0.39793261 0.29278679 0.7413277  0.85736279]\n",
            "[0.26911357763922295, 0.26447773783094153, 0.3158300902035951, 0.3312240751360048, 0.46047981840170915, 0.10623279598019508, 0.4809183794585733, 0.26019049604127387, 0.36650613340322613, 0.268064638353972, 0.46490932146695974, 0.5617047113643219, 0.44201263176803696, 0.3323630376527701, 0.8331032367492698, 0.8015684677669017, 0.46595092144039807, 0.5955309640997363, 0.26007884989944685, 0.7194686811315889, 0.30811886205676053, 0.8522887020961659, 0.3132264481445697, 0.6726763034568207, 0.09856858162047144, 0.33945564292040065, 0.7971380126789529, 0.6823496444374736, 0.7805126960825012, 0.7248826760081567]\n"
          ],
          "name": "stdout"
        }
      ]
    },
    {
      "cell_type": "markdown",
      "metadata": {
        "id": "aZCwL87ymyun",
        "colab_type": "text"
      },
      "source": [
        "Zdefiniowanie funckji dla listy i array"
      ]
    },
    {
      "cell_type": "code",
      "metadata": {
        "id": "_ICFCA4cT7iY",
        "colab_type": "code",
        "colab": {
          "base_uri": "https://localhost:8080/",
          "height": 54
        },
        "outputId": "8ee528b8-6a3d-4290-c3bd-261e7347ec10"
      },
      "source": [
        " def ArrayOperations():\n",
        "   ar_min=ar.min()\n",
        "   ar_max=ar.max()\n",
        "   ar_sum=ar.sum()\n",
        "   ar_prod=ar.prod()\n",
        "   ar_mean=ar.mean()\n",
        "   ar_std=ar.std()\n",
        "   ar_var=ar.var()\n",
        "   return {'min':ar_min,'max':ar_max,'sum':ar_sum,'prod':ar_prod,'mean':ar_mean,'std':ar_std,'var':ar_var}\n",
        "\n",
        " def ListOperations():\n",
        "   li_min=min(li)\n",
        "   li_max=max(li)\n",
        "   li_sum=sum(li)\n",
        "   li_prod=1\n",
        "   for i in range(len(li)):\n",
        "     li_prod*=li[i]\n",
        "   li_mean=sum(li)/len(li)\n",
        "   li_var_n=0\n",
        "   for i in range(len(li)):\n",
        "     li_var_n+=(li[i]-li_mean)**2\n",
        "   li_var=li_var_n/len(li)\n",
        "   li_std=li_var**(1/2) \n",
        "   return {'min':li_min,'max':li_max,'sum':li_sum,'prod':li_prod,'mean':li_mean,'std':li_std,'var':li_var}\n",
        "\n",
        "print(ArrayOperations())\n",
        "print(ListOperations())"
      ],
      "execution_count": 100,
      "outputs": [
        {
          "output_type": "stream",
          "text": [
            "{'min': 0.05941828193074239, 'max': 0.9141127920212525, 'sum': 13.334165170504603, 'prod': 5.173083728421613e-15, 'mean': 0.4444721723501534, 'std': 0.27808680753253767, 'var': 0.07733227252363864}\n",
            "{'min': 0.09856858162047144, 'max': 0.8522887020961659, 'sum': 14.168946135290419, 'prod': 3.3935701835857985e-12, 'mean': 0.47229820450968063, 'std': 0.2200025041256234, 'var': 0.04840110182154494}\n"
          ],
          "name": "stdout"
        }
      ]
    },
    {
      "cell_type": "code",
      "metadata": {
        "id": "O975WMoXT7o3",
        "colab_type": "code",
        "colab": {
          "base_uri": "https://localhost:8080/",
          "height": 72
        },
        "outputId": "546a794b-dcba-403d-cb7c-61110a9ca361"
      },
      "source": [
        "t_ar = timeit.timeit(ArrayOperations, number=1000)\n",
        "t_li = timeit.timeit(ListOperations, number=1000)\n",
        "\n",
        "print(\"Czas funkcji Array:\",t_ar)\n",
        "print(\"Czas funkcji List:\",t_li)\n",
        "if t_ar>t_li: print(\"Wniosek: Operacje na Liście w tym przypadku szybsze niż na Array\")\n",
        "else: print(\"Wniosek: Operacje na Array w tym przypadku szybsze niż na Liście\")"
      ],
      "execution_count": 101,
      "outputs": [
        {
          "output_type": "stream",
          "text": [
            "Czas funkcji Array: 0.07241231500029244\n",
            "Czas funkcji List: 0.008428747999460029\n",
            "Wniosek: Operacje na Liście w tym przypadku szybsze niż na Array\n"
          ],
          "name": "stdout"
        }
      ]
    },
    {
      "cell_type": "markdown",
      "metadata": {
        "id": "VbcrJBnUnTVG",
        "colab_type": "text"
      },
      "source": [
        "Sprawdzenie mniej elementarnych obliczeń"
      ]
    },
    {
      "cell_type": "code",
      "metadata": {
        "id": "B5_OZ5GblnMJ",
        "colab_type": "code",
        "colab": {
          "base_uri": "https://localhost:8080/",
          "height": 72
        },
        "outputId": "8ebb063a-e797-4cdf-a414-4dc644490395"
      },
      "source": [
        "#podniesienie do kwadratu każdego elementu\n",
        "def x(): [i**2 for i in li] \n",
        "def y(): ar**2\n",
        "\n",
        "t_ar = timeit.timeit(y, number=1000)\n",
        "t_li = timeit.timeit(x, number=1000)\n",
        "\n",
        "print(\"Czas funkcji Array:\",t_ar)\n",
        "print(\"Czas funkcji List:\",t_li)\n",
        "if t_ar>t_li: print(\"Wniosek: Operacje na Liście w tym przypadku szybsze niż na Array\")\n",
        "else: print(\"Wniosek: Operacje na Array w tym przypadku szybsze niż na Liście\")"
      ],
      "execution_count": 102,
      "outputs": [
        {
          "output_type": "stream",
          "text": [
            "Czas funkcji Array: 0.0018691109999053879\n",
            "Czas funkcji List: 0.002270047000820341\n",
            "Wniosek: Operacje na Array w tym przypadku szybsze niż na Liście\n"
          ],
          "name": "stdout"
        }
      ]
    },
    {
      "cell_type": "markdown",
      "metadata": {
        "id": "rTdJvfMbityk",
        "colab_type": "text"
      },
      "source": [
        "Wybrane sposoby oracy z tablicami zdefiniowanymi w pakiecie numpy"
      ]
    },
    {
      "cell_type": "code",
      "metadata": {
        "id": "B1Z5WeyNitQq",
        "colab_type": "code",
        "colab": {
          "base_uri": "https://localhost:8080/",
          "height": 745
        },
        "outputId": "3ae743c4-c650-47b7-9ff3-096ff7b13735"
      },
      "source": [
        "x=np.random.random(100)\n",
        "x.reshape(4,5,5) #zwraca zmienioną Array: 4 główne listy które zawierają po 5 pięcio elementowych list\n",
        "print(\"x po reshape\",x)\n",
        "x.resize(4,5,5) #zmienioniaa Array: 4 główne listy które zawierają po 5 pięcio elementowych list\n",
        "print(\"x po resize\",x)"
      ],
      "execution_count": 104,
      "outputs": [
        {
          "output_type": "stream",
          "text": [
            "x po reshape [0.8173253  0.26936745 0.61124333 0.99911122 0.18542726 0.06075078\n",
            " 0.15820463 0.95932167 0.47601087 0.92365176 0.99608573 0.28119595\n",
            " 0.95044918 0.12606682 0.24357171 0.1744122  0.81993836 0.98561401\n",
            " 0.94829449 0.91911891 0.72336203 0.88546519 0.46561932 0.12717181\n",
            " 0.40351862 0.94332907 0.23850847 0.31040624 0.64233252 0.44373023\n",
            " 0.4397209  0.71107238 0.11951529 0.52693493 0.24722197 0.03896452\n",
            " 0.39294246 0.94595401 0.3393263  0.5727426  0.29035028 0.73610772\n",
            " 0.5041758  0.54233037 0.82147756 0.64257751 0.07898339 0.0612463\n",
            " 0.6402712  0.9629075  0.47189416 0.69108278 0.9697318  0.91644251\n",
            " 0.50566171 0.08771687 0.61915275 0.23536599 0.44134671 0.32698469\n",
            " 0.1947356  0.03293468 0.63605753 0.56534758 0.74294526 0.7876617\n",
            " 0.85387685 0.74029454 0.21657524 0.23552167 0.87912876 0.45702144\n",
            " 0.45438791 0.05261892 0.87999281 0.41782009 0.37055557 0.26087049\n",
            " 0.1997548  0.64944841 0.59332936 0.82394625 0.9331672  0.12781042\n",
            " 0.75534857 0.98266645 0.91838552 0.44267221 0.91601178 0.62982863\n",
            " 0.53267035 0.78707685 0.84509093 0.7717957  0.35865122 0.28062573\n",
            " 0.46864913 0.78696703 0.42774952 0.0548883 ]\n",
            "x po resize [[[0.8173253  0.26936745 0.61124333 0.99911122 0.18542726]\n",
            "  [0.06075078 0.15820463 0.95932167 0.47601087 0.92365176]\n",
            "  [0.99608573 0.28119595 0.95044918 0.12606682 0.24357171]\n",
            "  [0.1744122  0.81993836 0.98561401 0.94829449 0.91911891]\n",
            "  [0.72336203 0.88546519 0.46561932 0.12717181 0.40351862]]\n",
            "\n",
            " [[0.94332907 0.23850847 0.31040624 0.64233252 0.44373023]\n",
            "  [0.4397209  0.71107238 0.11951529 0.52693493 0.24722197]\n",
            "  [0.03896452 0.39294246 0.94595401 0.3393263  0.5727426 ]\n",
            "  [0.29035028 0.73610772 0.5041758  0.54233037 0.82147756]\n",
            "  [0.64257751 0.07898339 0.0612463  0.6402712  0.9629075 ]]\n",
            "\n",
            " [[0.47189416 0.69108278 0.9697318  0.91644251 0.50566171]\n",
            "  [0.08771687 0.61915275 0.23536599 0.44134671 0.32698469]\n",
            "  [0.1947356  0.03293468 0.63605753 0.56534758 0.74294526]\n",
            "  [0.7876617  0.85387685 0.74029454 0.21657524 0.23552167]\n",
            "  [0.87912876 0.45702144 0.45438791 0.05261892 0.87999281]]\n",
            "\n",
            " [[0.41782009 0.37055557 0.26087049 0.1997548  0.64944841]\n",
            "  [0.59332936 0.82394625 0.9331672  0.12781042 0.75534857]\n",
            "  [0.98266645 0.91838552 0.44267221 0.91601178 0.62982863]\n",
            "  [0.53267035 0.78707685 0.84509093 0.7717957  0.35865122]\n",
            "  [0.28062573 0.46864913 0.78696703 0.42774952 0.0548883 ]]]\n"
          ],
          "name": "stdout"
        }
      ]
    },
    {
      "cell_type": "code",
      "metadata": {
        "id": "s3oe1QsisI8V",
        "colab_type": "code",
        "colab": {
          "base_uri": "https://localhost:8080/",
          "height": 417
        },
        "outputId": "e576d340-7fa6-4e58-99bd-83840d2b7aa9"
      },
      "source": [
        "print(\"Liczba wymiarów:\",x.ndim)\n",
        "print(\"Rozmiar tablicy:\",x.shape)\n",
        "print(\"Liczba elementów:\",x.size)\n",
        "print(\"Typ elementów:\",x.dtype)\n",
        "print(\"Rozmiar elementu w bajtach:\",x.itemsize)\n",
        "\n",
        "print(x.ravel()) #spłaszczenie Array'a"
      ],
      "execution_count": 105,
      "outputs": [
        {
          "output_type": "stream",
          "text": [
            "Liczba wymiarów: 3\n",
            "Rozmiar tablicy: (4, 5, 5)\n",
            "Liczba elementów: 100\n",
            "Typ elementów: float64\n",
            "Rozmiar elementu w bajtach: 8\n",
            "[0.8173253  0.26936745 0.61124333 0.99911122 0.18542726 0.06075078\n",
            " 0.15820463 0.95932167 0.47601087 0.92365176 0.99608573 0.28119595\n",
            " 0.95044918 0.12606682 0.24357171 0.1744122  0.81993836 0.98561401\n",
            " 0.94829449 0.91911891 0.72336203 0.88546519 0.46561932 0.12717181\n",
            " 0.40351862 0.94332907 0.23850847 0.31040624 0.64233252 0.44373023\n",
            " 0.4397209  0.71107238 0.11951529 0.52693493 0.24722197 0.03896452\n",
            " 0.39294246 0.94595401 0.3393263  0.5727426  0.29035028 0.73610772\n",
            " 0.5041758  0.54233037 0.82147756 0.64257751 0.07898339 0.0612463\n",
            " 0.6402712  0.9629075  0.47189416 0.69108278 0.9697318  0.91644251\n",
            " 0.50566171 0.08771687 0.61915275 0.23536599 0.44134671 0.32698469\n",
            " 0.1947356  0.03293468 0.63605753 0.56534758 0.74294526 0.7876617\n",
            " 0.85387685 0.74029454 0.21657524 0.23552167 0.87912876 0.45702144\n",
            " 0.45438791 0.05261892 0.87999281 0.41782009 0.37055557 0.26087049\n",
            " 0.1997548  0.64944841 0.59332936 0.82394625 0.9331672  0.12781042\n",
            " 0.75534857 0.98266645 0.91838552 0.44267221 0.91601178 0.62982863\n",
            " 0.53267035 0.78707685 0.84509093 0.7717957  0.35865122 0.28062573\n",
            " 0.46864913 0.78696703 0.42774952 0.0548883 ]\n"
          ],
          "name": "stdout"
        }
      ]
    },
    {
      "cell_type": "code",
      "metadata": {
        "id": "35eXHMgAsJDB",
        "colab_type": "code",
        "colab": {
          "base_uri": "https://localhost:8080/",
          "height": 399
        },
        "outputId": "9acf292e-1df9-4036-8505-f6da8b72e857"
      },
      "source": [
        "s=(2,3,4)\n",
        "print(\"Array zawierający tylko zera\")\n",
        "print(np.zeros(s))\n",
        "print(\"Array zawierający tylko jedynki\")\n",
        "print(np.ones(s))\n",
        "print(\"Array zawierający jedynki tylko na przekątnej\")\n",
        "print(np.eye(4))"
      ],
      "execution_count": 106,
      "outputs": [
        {
          "output_type": "stream",
          "text": [
            "Array zawierający tylko zera\n",
            "[[[0. 0. 0. 0.]\n",
            "  [0. 0. 0. 0.]\n",
            "  [0. 0. 0. 0.]]\n",
            "\n",
            " [[0. 0. 0. 0.]\n",
            "  [0. 0. 0. 0.]\n",
            "  [0. 0. 0. 0.]]]\n",
            "Array zawierający tylko jedynki\n",
            "[[[1. 1. 1. 1.]\n",
            "  [1. 1. 1. 1.]\n",
            "  [1. 1. 1. 1.]]\n",
            "\n",
            " [[1. 1. 1. 1.]\n",
            "  [1. 1. 1. 1.]\n",
            "  [1. 1. 1. 1.]]]\n",
            "Array zawierający jedynki tylko na przekątnej\n",
            "[[1. 0. 0. 0.]\n",
            " [0. 1. 0. 0.]\n",
            " [0. 0. 1. 0.]\n",
            " [0. 0. 0. 1.]]\n"
          ],
          "name": "stdout"
        }
      ]
    },
    {
      "cell_type": "code",
      "metadata": {
        "id": "EuXJs0DrwTUA",
        "colab_type": "code",
        "colab": {
          "base_uri": "https://localhost:8080/",
          "height": 72
        },
        "outputId": "86581613-71c3-4eab-c6ca-cf482129abed"
      },
      "source": [
        "print(np.arange(4,99,3)) #liczby od 4 do 99 co 3\n",
        "print(np.linspace(0,100,11)) #podział odcinka [0,100] na 11 liczb, oddalonych od siebie równomiernie"
      ],
      "execution_count": 107,
      "outputs": [
        {
          "output_type": "stream",
          "text": [
            "[ 4  7 10 13 16 19 22 25 28 31 34 37 40 43 46 49 52 55 58 61 64 67 70 73\n",
            " 76 79 82 85 88 91 94 97]\n",
            "[  0.  10.  20.  30.  40.  50.  60.  70.  80.  90. 100.]\n"
          ],
          "name": "stdout"
        }
      ]
    },
    {
      "cell_type": "code",
      "metadata": {
        "id": "IqmLzGGjwTXn",
        "colab_type": "code",
        "colab": {
          "base_uri": "https://localhost:8080/",
          "height": 181
        },
        "outputId": "c564bd50-4060-4694-ba42-ec3bf0f17d06"
      },
      "source": [
        "x=np.random.random(16).reshape((4,4))\n",
        "x\n",
        "print(np.vstack((x,\n",
        "                 [3.,4.,5.,6.]))) #dodanie kolejnego \"wiersza\"\n",
        "print(np.hstack((x,\n",
        "                 np.array([3.,4.,5.,6.]).reshape(4,1)))) #dodanie koeljnej \"kolumny\""
      ],
      "execution_count": 108,
      "outputs": [
        {
          "output_type": "stream",
          "text": [
            "[[0.81326104 0.20059145 0.67401727 0.60990648]\n",
            " [0.6851108  0.51266716 0.92879586 0.03069156]\n",
            " [0.92500811 0.04635147 0.669117   0.25225427]\n",
            " [0.28027437 0.61285263 0.33592668 0.30264309]\n",
            " [3.         4.         5.         6.        ]]\n",
            "[[0.81326104 0.20059145 0.67401727 0.60990648 3.        ]\n",
            " [0.6851108  0.51266716 0.92879586 0.03069156 4.        ]\n",
            " [0.92500811 0.04635147 0.669117   0.25225427 5.        ]\n",
            " [0.28027437 0.61285263 0.33592668 0.30264309 6.        ]]\n"
          ],
          "name": "stdout"
        }
      ]
    }
  ]
}
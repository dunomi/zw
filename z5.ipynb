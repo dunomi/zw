{
  "nbformat": 4,
  "nbformat_minor": 0,
  "metadata": {
    "colab": {
      "name": "z5",
      "provenance": [],
      "authorship_tag": "ABX9TyPOj+U75SiP8zetGOnzWrbv",
      "include_colab_link": true
    },
    "kernelspec": {
      "name": "python3",
      "display_name": "Python 3"
    }
  },
  "cells": [
    {
      "cell_type": "markdown",
      "metadata": {
        "id": "view-in-github",
        "colab_type": "text"
      },
      "source": [
        "<a href=\"https://colab.research.google.com/github/dunomi/zw/blob/master/z5.ipynb\" target=\"_parent\"><img src=\"https://colab.research.google.com/assets/colab-badge.svg\" alt=\"Open In Colab\"/></a>"
      ]
    },
    {
      "cell_type": "code",
      "metadata": {
        "id": "yakCYAoKTnEh",
        "colab_type": "code",
        "colab": {}
      },
      "source": [
        "import numpy as np\n",
        "\n",
        "ar=np.random.random(30)\n",
        "li=np.random.random(30).tolist()"
      ],
      "execution_count": 0,
      "outputs": []
    },
    {
      "cell_type": "code",
      "metadata": {
        "id": "kHiLMXMTTzQZ",
        "colab_type": "code",
        "colab": {}
      },
      "source": [
        "print(ar)\n",
        "print(li)"
      ],
      "execution_count": 0,
      "outputs": []
    },
    {
      "cell_type": "code",
      "metadata": {
        "id": "_ICFCA4cT7iY",
        "colab_type": "code",
        "colab": {}
      },
      "source": [
        " def ArrayOperations(ar):\n",
        "   ar_min=ar.min()\n",
        "   ar_max=ar.max()\n",
        "   ar_sum=ar.sum()\n",
        "   ar_prod=ar.prod()\n",
        "   ar_mean=ar.mean()\n",
        "   ar_std=ar.std()\n",
        "   ar_var=ar.var()\n",
        "   return {'min':ar_min,'max':ar_max,'sum':ar_sum,'prod':ar_prod,'mean':ar_mean,'std':ar_std,'var':ar_var}\n",
        "\n",
        " def ListOperations(li):\n",
        "   li_min=min(li)\n",
        "   li_max=max(li)\n",
        "   li_sum=sum(li)\n",
        "\n",
        "   li_prod=1\n",
        "   for i in range(len(li)):\n",
        "     li_prod*=li[i]\n",
        "\n",
        "   li_mean=sum(li)/len(li)\n",
        "\n",
        "   li_var_n=0\n",
        "   for i in range(len(li)):\n",
        "     li_var_n+=(li[i]-li_mean)**2\n",
        "   li_var=li_var_n/len(li)\n",
        "   li_std=li_var**(1/2)\n",
        "   \n",
        "   return {'min':li_min,'max':li_max,'sum':li_sum,'prod':li_prod,'mean':li_mean,'std':li_std,'var':li_var}\n"
      ],
      "execution_count": 0,
      "outputs": []
    },
    {
      "cell_type": "code",
      "metadata": {
        "id": "Y35-lLr_T7lJ",
        "colab_type": "code",
        "colab": {
          "base_uri": "https://localhost:8080/",
          "height": 54
        },
        "outputId": "0f419e04-c3b6-4458-8e36-0899980a1454"
      },
      "source": [
        "\n",
        "print(ArrayOperations(ar))\n",
        "print(ListOperations(ar.tolist()))"
      ],
      "execution_count": 45,
      "outputs": [
        {
          "output_type": "stream",
          "text": [
            "{'min': 0.008873964203561902, 'max': 0.9988564459529524, 'sum': 15.5246116715573, 'prod': 9.528885076456157e-14, 'mean': 0.5174870557185767, 'std': 0.288088824899614, 'var': 0.08299517103204047}\n",
            "{'min': 0.008873964203561902, 'max': 0.9988564459529524, 'sum': 15.524611671557297, 'prod': 9.528885076456157e-14, 'mean': 0.5174870557185766, 'std': 0.288088824899614, 'var': 0.08299517103204047}\n"
          ],
          "name": "stdout"
        }
      ]
    },
    {
      "cell_type": "code",
      "metadata": {
        "id": "O975WMoXT7o3",
        "colab_type": "code",
        "colab": {
          "base_uri": "https://localhost:8080/",
          "height": 35
        },
        "outputId": "87200462-6dc1-4735-ce8a-7eddd4a8ed5e"
      },
      "source": [
        "16**(1/2)"
      ],
      "execution_count": 41,
      "outputs": [
        {
          "output_type": "execute_result",
          "data": {
            "text/plain": [
              "4.0"
            ]
          },
          "metadata": {
            "tags": []
          },
          "execution_count": 41
        }
      ]
    }
  ]
}
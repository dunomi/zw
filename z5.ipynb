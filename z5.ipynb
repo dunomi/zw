{
  "nbformat": 4,
  "nbformat_minor": 0,
  "metadata": {
    "colab": {
      "name": "z5",
      "provenance": [],
      "authorship_tag": "ABX9TyNGLjB8yqFUm4fk9BHhIg8w",
      "include_colab_link": true
    },
    "kernelspec": {
      "name": "python3",
      "display_name": "Python 3"
    }
  },
  "cells": [
    {
      "cell_type": "markdown",
      "metadata": {
        "id": "view-in-github",
        "colab_type": "text"
      },
      "source": [
        "<a href=\"https://colab.research.google.com/github/dunomi/zw/blob/master/z5.ipynb\" target=\"_parent\"><img src=\"https://colab.research.google.com/assets/colab-badge.svg\" alt=\"Open In Colab\"/></a>"
      ]
    },
    {
      "cell_type": "markdown",
      "metadata": {
        "id": "OS9u7opYmlHB",
        "colab_type": "text"
      },
      "source": [
        "Import bibliotek i stworzenie listy i array"
      ]
    },
    {
      "cell_type": "code",
      "metadata": {
        "id": "yakCYAoKTnEh",
        "colab_type": "code",
        "colab": {}
      },
      "source": [
        "import numpy as np\n",
        "import timeit\n",
        "\n",
        "ar=np.random.random(30)\n",
        "li=np.random.random(30).tolist()\n",
        "\n",
        "print(ar)\n",
        "print(li)"
      ],
      "execution_count": 0,
      "outputs": []
    },
    {
      "cell_type": "markdown",
      "metadata": {
        "id": "aZCwL87ymyun",
        "colab_type": "text"
      },
      "source": [
        "Zdefiniowanie funckji dla listy i array"
      ]
    },
    {
      "cell_type": "code",
      "metadata": {
        "id": "_ICFCA4cT7iY",
        "colab_type": "code",
        "colab": {}
      },
      "source": [
        " def ArrayOperations():\n",
        "   ar_min=ar.min()\n",
        "   ar_max=ar.max()\n",
        "   ar_sum=ar.sum()\n",
        "   ar_prod=ar.prod()\n",
        "   ar_mean=ar.mean()\n",
        "   ar_std=ar.std()\n",
        "   ar_var=ar.var()\n",
        "   return {'min':ar_min,'max':ar_max,'sum':ar_sum,'prod':ar_prod,'mean':ar_mean,'std':ar_std,'var':ar_var}\n",
        "\n",
        " def ListOperations():\n",
        "   li_min=min(li)\n",
        "   li_max=max(li)\n",
        "   li_sum=sum(li)\n",
        "   li_prod=1\n",
        "   for i in range(len(li)):\n",
        "     li_prod*=li[i]\n",
        "   li_mean=sum(li)/len(li)\n",
        "   li_var_n=0\n",
        "   for i in range(len(li)):\n",
        "     li_var_n+=(li[i]-li_mean)**2\n",
        "   li_var=li_var_n/len(li)\n",
        "   li_std=li_var**(1/2) \n",
        "   return {'min':li_min,'max':li_max,'sum':li_sum,'prod':li_prod,'mean':li_mean,'std':li_std,'var':li_var}\n",
        "\n",
        "print(ArrayOperations())\n",
        "print(ListOperations())"
      ],
      "execution_count": 0,
      "outputs": []
    },
    {
      "cell_type": "code",
      "metadata": {
        "id": "O975WMoXT7o3",
        "colab_type": "code",
        "colab": {
          "base_uri": "https://localhost:8080/",
          "height": 72
        },
        "outputId": "cb179c30-7aae-4253-86a9-f90f4772e66d"
      },
      "source": [
        "t_ar = timeit.timeit(ArrayOperations, number=1000)\n",
        "t_li = timeit.timeit(ListOperations, number=1000)\n",
        "\n",
        "print(\"Czas funkcji Array:\",t_ar)\n",
        "print(\"Czas funkcji List:\",t_li)\n",
        "if t_ar>t_li: print(\"Wniosek: Operacje na Liście w tym przypadku szybsze niż na Array\")\n",
        "else: print(\"Wniosek: Operacje na Array w tym przypadku szybsze niż na Liście\")"
      ],
      "execution_count": 86,
      "outputs": [
        {
          "output_type": "stream",
          "text": [
            "Czas funkcji Array: 0.04967928899986873\n",
            "Czas funkcji List: 0.006802398999752768\n",
            "Wniosek: Operacje na Liście w tym przypadku szybszę niż na Array\n"
          ],
          "name": "stdout"
        }
      ]
    },
    {
      "cell_type": "markdown",
      "metadata": {
        "id": "VbcrJBnUnTVG",
        "colab_type": "text"
      },
      "source": [
        "Sprawdzenie mniej elementarnych obliczeń"
      ]
    },
    {
      "cell_type": "code",
      "metadata": {
        "id": "B5_OZ5GblnMJ",
        "colab_type": "code",
        "colab": {
          "base_uri": "https://localhost:8080/",
          "height": 72
        },
        "outputId": "4f6c7d7e-92f7-4a2f-940f-77972eca9646"
      },
      "source": [
        "def x(): [i**2 for i in li]\n",
        "def y(): ar**2\n",
        "\n",
        "t_ar = timeit.timeit(y, number=1000)\n",
        "t_li = timeit.timeit(x, number=1000)\n",
        "\n",
        "print(\"Czas funkcji Array:\",t_ar)\n",
        "print(\"Czas funkcji List:\",t_li)\n",
        "if t_ar>t_li: print(\"Wniosek: Operacje na Liście w tym przypadku szybsze niż na Array\")\n",
        "else: print(\"Wniosek: Operacje na Array w tym przypadku szybsze niż na Liście\")"
      ],
      "execution_count": 89,
      "outputs": [
        {
          "output_type": "stream",
          "text": [
            "Czas funkcji Array: 0.0016935409994403017\n",
            "Czas funkcji List: 0.002925609999692824\n",
            "Wniosek: Operacje na Array w tym przypadku szybsze niż na Liście\n"
          ],
          "name": "stdout"
        }
      ]
    }
  ]
}
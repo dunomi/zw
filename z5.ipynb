{
  "nbformat": 4,
  "nbformat_minor": 0,
  "metadata": {
    "colab": {
      "name": "z5",
      "provenance": [],
      "authorship_tag": "ABX9TyMXZkt/9IdS7YzgbyZDGgmf",
      "include_colab_link": true
    },
    "kernelspec": {
      "name": "python3",
      "display_name": "Python 3"
    }
  },
  "cells": [
    {
      "cell_type": "markdown",
      "metadata": {
        "id": "view-in-github",
        "colab_type": "text"
      },
      "source": [
        "<a href=\"https://colab.research.google.com/github/dunomi/zw/blob/master/z5.ipynb\" target=\"_parent\"><img src=\"https://colab.research.google.com/assets/colab-badge.svg\" alt=\"Open In Colab\"/></a>"
      ]
    },
    {
      "cell_type": "markdown",
      "metadata": {
        "id": "OS9u7opYmlHB",
        "colab_type": "text"
      },
      "source": [
        "Import bibliotek i stworzenie listy i array"
      ]
    },
    {
      "cell_type": "code",
      "metadata": {
        "id": "yakCYAoKTnEh",
        "colab_type": "code",
        "colab": {
          "base_uri": "https://localhost:8080/",
          "height": 146
        },
        "outputId": "a8442aab-977a-4456-9937-be6a1d59cca5"
      },
      "source": [
        "import numpy as np\n",
        "import timeit\n",
        "\n",
        "ar=np.random.random(30)\n",
        "li=np.random.random(30).tolist()\n",
        "\n",
        "print(ar)\n",
        "print(li)"
      ],
      "execution_count": 1,
      "outputs": [
        {
          "output_type": "stream",
          "text": [
            "[0.72324484 0.18757981 0.34381211 0.50114577 0.77685311 0.69499034\n",
            " 0.85648596 0.11523493 0.50402773 0.47177549 0.22142808 0.01659578\n",
            " 0.25958621 0.89850283 0.78961946 0.63215576 0.60971078 0.63749695\n",
            " 0.12195634 0.91271292 0.69494143 0.53999869 0.79426435 0.56703421\n",
            " 0.30267191 0.7946131  0.29988351 0.18892851 0.00851339 0.04432158]\n",
            "[0.554235952037113, 0.9453261153414342, 0.049291379611517305, 0.759872684598693, 0.20899173629861756, 0.1081567053167104, 0.7766096491578284, 0.9741095561890756, 0.744506279287081, 0.20128185959509182, 0.7285101552981567, 0.40019788077931195, 0.3978164567669018, 0.2983806720046883, 0.19407134544252924, 0.8716465115337861, 0.3523753283926434, 0.5367549357223943, 0.9311275327626484, 0.030437791216690657, 0.6735481072158349, 0.6022974503355321, 0.23482679236996695, 0.12968963609739947, 0.9704862596748616, 0.3422352891448651, 0.4385751242644571, 0.035437966024483014, 0.7755710601584876, 0.6182979589329415]\n"
          ],
          "name": "stdout"
        }
      ]
    },
    {
      "cell_type": "markdown",
      "metadata": {
        "id": "aZCwL87ymyun",
        "colab_type": "text"
      },
      "source": [
        "Zdefiniowanie funckji dla listy i array"
      ]
    },
    {
      "cell_type": "code",
      "metadata": {
        "id": "_ICFCA4cT7iY",
        "colab_type": "code",
        "colab": {
          "base_uri": "https://localhost:8080/",
          "height": 54
        },
        "outputId": "57e20d63-9679-4c9d-cfff-1c76dc63fb88"
      },
      "source": [
        " def ArrayOperations():\n",
        "   ar_min=ar.min()\n",
        "   ar_max=ar.max()\n",
        "   ar_sum=ar.sum()\n",
        "   ar_prod=ar.prod()\n",
        "   ar_mean=ar.mean()\n",
        "   ar_std=ar.std()\n",
        "   ar_var=ar.var()\n",
        "   return {'min':ar_min,'max':ar_max,'sum':ar_sum,'prod':ar_prod,'mean':ar_mean,'std':ar_std,'var':ar_var}\n",
        "\n",
        " def ListOperations():\n",
        "   li_min=min(li)\n",
        "   li_max=max(li)\n",
        "   li_sum=sum(li)\n",
        "   li_prod=1\n",
        "   for i in range(len(li)):\n",
        "     li_prod*=li[i]\n",
        "   li_mean=sum(li)/len(li)\n",
        "   li_var_n=0\n",
        "   for i in range(len(li)):\n",
        "     li_var_n+=(li[i]-li_mean)**2\n",
        "   li_var=li_var_n/len(li)\n",
        "   li_std=li_var**(1/2) \n",
        "   return {'min':li_min,'max':li_max,'sum':li_sum,'prod':li_prod,'mean':li_mean,'std':li_std,'var':li_var}\n",
        "\n",
        "print(ArrayOperations())\n",
        "print(ListOperations())"
      ],
      "execution_count": 2,
      "outputs": [
        {
          "output_type": "stream",
          "text": [
            "{'min': 0.008513391447039553, 'max': 0.9127129162242857, 'sum': 14.51008586895152, 'prod': 4.764238532606084e-15, 'mean': 0.48366952896505067, 'std': 0.2810874862281977, 'var': 0.07901017491408721}\n",
            "{'min': 0.030437791216690657, 'max': 0.9741095561890756, 'sum': 14.884666171571745, 'prod': 4.826171197536928e-14, 'mean': 0.49615553905239146, 'std': 0.30212080635281224, 'var': 0.09127698163127348}\n"
          ],
          "name": "stdout"
        }
      ]
    },
    {
      "cell_type": "code",
      "metadata": {
        "id": "O975WMoXT7o3",
        "colab_type": "code",
        "outputId": "0303877a-84aa-4606-a4d7-f413812325c8",
        "colab": {
          "base_uri": "https://localhost:8080/",
          "height": 72
        }
      },
      "source": [
        "t_ar = timeit.timeit(ArrayOperations, number=1000)\n",
        "t_li = timeit.timeit(ListOperations, number=1000)\n",
        "\n",
        "print(\"Czas funkcji Array:\",t_ar)\n",
        "print(\"Czas funkcji List:\",t_li)\n",
        "if t_ar>t_li: print(\"Wniosek: Operacje na Liście w tym przypadku szybsze niż na Array\")\n",
        "else: print(\"Wniosek: Operacje na Array w tym przypadku szybsze niż na Liście\")"
      ],
      "execution_count": 3,
      "outputs": [
        {
          "output_type": "stream",
          "text": [
            "Czas funkcji Array: 0.06755636200000481\n",
            "Czas funkcji List: 0.008348449000010305\n",
            "Wniosek: Operacje na Liście w tym przypadku szybsze niż na Array\n"
          ],
          "name": "stdout"
        }
      ]
    },
    {
      "cell_type": "markdown",
      "metadata": {
        "id": "VbcrJBnUnTVG",
        "colab_type": "text"
      },
      "source": [
        "Sprawdzenie mniej elementarnych obliczeń"
      ]
    },
    {
      "cell_type": "code",
      "metadata": {
        "id": "B5_OZ5GblnMJ",
        "colab_type": "code",
        "outputId": "ee45e384-006c-4d92-cb03-7ff45ff3883e",
        "colab": {
          "base_uri": "https://localhost:8080/",
          "height": 72
        }
      },
      "source": [
        "#podniesienie do kwadratu każdego elementu\n",
        "def x(): [i**2 for i in li] \n",
        "def y(): ar**2\n",
        "\n",
        "t_ar = timeit.timeit(y, number=1000)\n",
        "t_li = timeit.timeit(x, number=1000)\n",
        "\n",
        "print(\"Czas funkcji Array:\",t_ar)\n",
        "print(\"Czas funkcji List:\",t_li)\n",
        "if t_ar>t_li: print(\"Wniosek: Operacje na Liście w tym przypadku szybsze niż na Array\")\n",
        "else: print(\"Wniosek: Operacje na Array w tym przypadku szybsze niż na Liście\")"
      ],
      "execution_count": 4,
      "outputs": [
        {
          "output_type": "stream",
          "text": [
            "Czas funkcji Array: 0.0020753750000039872\n",
            "Czas funkcji List: 0.005303569999995261\n",
            "Wniosek: Operacje na Array w tym przypadku szybsze niż na Liście\n"
          ],
          "name": "stdout"
        }
      ]
    },
    {
      "cell_type": "markdown",
      "metadata": {
        "id": "rTdJvfMbityk",
        "colab_type": "text"
      },
      "source": [
        "Wybrane sposoby oracy z tablicami zdefiniowanymi w pakiecie numpy"
      ]
    },
    {
      "cell_type": "code",
      "metadata": {
        "id": "B1Z5WeyNitQq",
        "colab_type": "code",
        "colab": {
          "base_uri": "https://localhost:8080/",
          "height": 435
        },
        "outputId": "b4291d46-822d-4493-8bb4-fc1bfa2c6d85"
      },
      "source": [
        "x=np.random.random(100)\n",
        "x=x.reshape(4,5,5) #zmiana kształu na array zawierjącego 4 główne listy które zawierają po 5 pięcio elementowych list\n",
        "print(x)"
      ],
      "execution_count": 25,
      "outputs": [
        {
          "output_type": "stream",
          "text": [
            "[[[0.98478647 0.99084552 0.40068918 0.41136602 0.75407423]\n",
            "  [0.07186905 0.31055138 0.44553644 0.85924538 0.62232779]\n",
            "  [0.38318291 0.77880269 0.20524689 0.59920339 0.02988483]\n",
            "  [0.21338933 0.46564084 0.06168967 0.9936828  0.85046713]\n",
            "  [0.84203167 0.43025603 0.12981235 0.98644219 0.88616767]]\n",
            "\n",
            " [[0.02607126 0.09373261 0.26845799 0.71311758 0.73121298]\n",
            "  [0.06459564 0.12054514 0.05956822 0.85461539 0.92077199]\n",
            "  [0.41316598 0.49427592 0.13093732 0.44933546 0.88541291]\n",
            "  [0.70356256 0.85172319 0.00231029 0.95245856 0.12289152]\n",
            "  [0.23411679 0.7876928  0.61866079 0.39558482 0.76334173]]\n",
            "\n",
            " [[0.30754688 0.88478236 0.8946762  0.50043781 0.03700988]\n",
            "  [0.15382232 0.02917476 0.7022826  0.36134593 0.82104094]\n",
            "  [0.82659265 0.53605408 0.71055174 0.31651509 0.90590999]\n",
            "  [0.39283888 0.60325198 0.42084243 0.71923674 0.41422721]\n",
            "  [0.08965478 0.59361763 0.98437312 0.85163676 0.66215221]]\n",
            "\n",
            " [[0.72997496 0.34663355 0.7811646  0.74008296 0.45068479]\n",
            "  [0.08224268 0.9542565  0.1610935  0.27256222 0.36709606]\n",
            "  [0.27682519 0.04184927 0.91396626 0.39268185 0.23142274]\n",
            "  [0.43339409 0.01303087 0.61302481 0.39428931 0.60984304]\n",
            "  [0.63507005 0.2235828  0.41303061 0.42202625 0.41489122]]]\n"
          ],
          "name": "stdout"
        }
      ]
    },
    {
      "cell_type": "code",
      "metadata": {
        "id": "s3oe1QsisI8V",
        "colab_type": "code",
        "colab": {
          "base_uri": "https://localhost:8080/",
          "height": 108
        },
        "outputId": "f1a75460-6209-4f46-d3c1-f30565b9e0ea"
      },
      "source": [
        "print(\"Liczba wymiarów:\",x.ndim)\n",
        "print(\"Rozmiar tablicy:\",x.shape)\n",
        "print(\"Liczba elementów:\",x.size)\n",
        "print(\"Typ elementów:\",x.dtype)\n",
        "print(\"Rozmiar elementu w bajtach:\",x.itemsize)"
      ],
      "execution_count": 31,
      "outputs": [
        {
          "output_type": "stream",
          "text": [
            "Liczba wymiarów: 3\n",
            "Rozmiar tablicy: (4, 5, 5)\n",
            "Liczba elementów: 100\n",
            "Type elementów: float64\n",
            "Rozmiar elementu w bajtach: 8\n"
          ],
          "name": "stdout"
        }
      ]
    },
    {
      "cell_type": "code",
      "metadata": {
        "id": "35eXHMgAsJDB",
        "colab_type": "code",
        "colab": {}
      },
      "source": [
        ""
      ],
      "execution_count": 0,
      "outputs": []
    }
  ]
}
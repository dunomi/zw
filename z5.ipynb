{
  "nbformat": 4,
  "nbformat_minor": 0,
  "metadata": {
    "colab": {
      "name": "z5",
      "provenance": [],
      "authorship_tag": "ABX9TyMqKuciBLJIygQgdUuQHKxx",
      "include_colab_link": true
    },
    "kernelspec": {
      "name": "python3",
      "display_name": "Python 3"
    }
  },
  "cells": [
    {
      "cell_type": "markdown",
      "metadata": {
        "id": "view-in-github",
        "colab_type": "text"
      },
      "source": [
        "<a href=\"https://colab.research.google.com/github/dunomi/zw/blob/master/z5.ipynb\" target=\"_parent\"><img src=\"https://colab.research.google.com/assets/colab-badge.svg\" alt=\"Open In Colab\"/></a>"
      ]
    },
    {
      "cell_type": "markdown",
      "metadata": {
        "id": "OS9u7opYmlHB",
        "colab_type": "text"
      },
      "source": [
        "Import bibliotek i stworzenie listy i array"
      ]
    },
    {
      "cell_type": "code",
      "metadata": {
        "id": "yakCYAoKTnEh",
        "colab_type": "code",
        "colab": {}
      },
      "source": [
        "import numpy as np\n",
        "import timeit\n",
        "\n",
        "ar=np.random.random(30)\n",
        "li=np.random.random(30).tolist()\n",
        "\n",
        "print(ar)\n",
        "print(li)"
      ],
      "execution_count": 0,
      "outputs": []
    },
    {
      "cell_type": "markdown",
      "metadata": {
        "id": "aZCwL87ymyun",
        "colab_type": "text"
      },
      "source": [
        "Zdefiniowanie funckji dla listy i array"
      ]
    },
    {
      "cell_type": "code",
      "metadata": {
        "id": "_ICFCA4cT7iY",
        "colab_type": "code",
        "colab": {}
      },
      "source": [
        " def ArrayOperations():\n",
        "   ar_min=ar.min()\n",
        "   ar_max=ar.max()\n",
        "   ar_sum=ar.sum()\n",
        "   ar_prod=ar.prod()\n",
        "   ar_mean=ar.mean()\n",
        "   ar_std=ar.std()\n",
        "   ar_var=ar.var()\n",
        "   return {'min':ar_min,'max':ar_max,'sum':ar_sum,'prod':ar_prod,'mean':ar_mean,'std':ar_std,'var':ar_var}\n",
        "\n",
        " def ListOperations():\n",
        "   li_min=min(li)\n",
        "   li_max=max(li)\n",
        "   li_sum=sum(li)\n",
        "   li_prod=1\n",
        "   for i in range(len(li)):\n",
        "     li_prod*=li[i]\n",
        "   li_mean=sum(li)/len(li)\n",
        "   li_var_n=0\n",
        "   for i in range(len(li)):\n",
        "     li_var_n+=(li[i]-li_mean)**2\n",
        "   li_var=li_var_n/len(li)\n",
        "   li_std=li_var**(1/2) \n",
        "   return {'min':li_min,'max':li_max,'sum':li_sum,'prod':li_prod,'mean':li_mean,'std':li_std,'var':li_var}\n",
        "\n",
        "print(ArrayOperations())\n",
        "print(ListOperations())"
      ],
      "execution_count": 0,
      "outputs": []
    },
    {
      "cell_type": "code",
      "metadata": {
        "id": "O975WMoXT7o3",
        "colab_type": "code",
        "colab": {}
      },
      "source": [
        "t_ar = timeit.timeit(ArrayOperations, number=1000)\n",
        "t_li = timeit.timeit(ListOperations, number=1000)\n",
        "\n",
        "print(\"Czas funkcji Array:\",t_ar)\n",
        "print(\"Czas funkcji List:\",t_li)\n",
        "if t_ar>t_li: print(\"Wniosek: Operacje na Liście w tym przypadku szybsze niż na Array\")\n",
        "else: print(\"Wniosek: Operacje na Array w tym przypadku szybsze niż na Liście\")"
      ],
      "execution_count": 0,
      "outputs": []
    },
    {
      "cell_type": "markdown",
      "metadata": {
        "id": "VbcrJBnUnTVG",
        "colab_type": "text"
      },
      "source": [
        "Sprawdzenie mniej elementarnych obliczeń"
      ]
    },
    {
      "cell_type": "code",
      "metadata": {
        "id": "B5_OZ5GblnMJ",
        "colab_type": "code",
        "colab": {}
      },
      "source": [
        "#podniesienie do kwadratu każdego elementu\n",
        "def x(): [i**2 for i in li] \n",
        "def y(): ar**2\n",
        "\n",
        "t_ar = timeit.timeit(y, number=1000)\n",
        "t_li = timeit.timeit(x, number=1000)\n",
        "\n",
        "print(\"Czas funkcji Array:\",t_ar)\n",
        "print(\"Czas funkcji List:\",t_li)\n",
        "if t_ar>t_li: print(\"Wniosek: Operacje na Liście w tym przypadku szybsze niż na Array\")\n",
        "else: print(\"Wniosek: Operacje na Array w tym przypadku szybsze niż na Liście\")"
      ],
      "execution_count": 0,
      "outputs": []
    },
    {
      "cell_type": "markdown",
      "metadata": {
        "id": "rTdJvfMbityk",
        "colab_type": "text"
      },
      "source": [
        "Wybrane sposoby oracy z tablicami zdefiniowanymi w pakiecie numpy"
      ]
    },
    {
      "cell_type": "code",
      "metadata": {
        "id": "B1Z5WeyNitQq",
        "colab_type": "code",
        "colab": {}
      },
      "source": [
        "x=np.random.random(100)\n",
        "x=x.reshape(4,5,5) #zmiana kształu na array zawierjącego 4 główne listy które zawierają po 5 pięcio elementowych list\n",
        "print(x)"
      ],
      "execution_count": 0,
      "outputs": []
    },
    {
      "cell_type": "code",
      "metadata": {
        "id": "s3oe1QsisI8V",
        "colab_type": "code",
        "colab": {}
      },
      "source": [
        "print(\"Liczba wymiarów:\",x.ndim)\n",
        "print(\"Rozmiar tablicy:\",x.shape)\n",
        "print(\"Liczba elementów:\",x.size)\n",
        "print(\"Typ elementów:\",x.dtype)\n",
        "print(\"Rozmiar elementu w bajtach:\",x.itemsize)"
      ],
      "execution_count": 0,
      "outputs": []
    },
    {
      "cell_type": "code",
      "metadata": {
        "id": "35eXHMgAsJDB",
        "colab_type": "code",
        "colab": {}
      },
      "source": [
        "s=(2,3,4)\n",
        "print(\"Array zawierający tylko zera\")\n",
        "print(np.zeros(s))\n",
        "print(\"Array zawierający tylko jedynki\")\n",
        "print(np.ones(s))\n",
        "print(\"Array zawierający jedynki tylko na przekątnej\")\n",
        "print(np.eye(4))"
      ],
      "execution_count": 0,
      "outputs": []
    },
    {
      "cell_type": "code",
      "metadata": {
        "id": "EuXJs0DrwTUA",
        "colab_type": "code",
        "colab": {}
      },
      "source": [
        ""
      ],
      "execution_count": 0,
      "outputs": []
    },
    {
      "cell_type": "code",
      "metadata": {
        "id": "IqmLzGGjwTXn",
        "colab_type": "code",
        "colab": {}
      },
      "source": [
        ""
      ],
      "execution_count": 0,
      "outputs": []
    }
  ]
}
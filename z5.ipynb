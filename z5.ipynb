{
  "nbformat": 4,
  "nbformat_minor": 0,
  "metadata": {
    "colab": {
      "name": "z5",
      "provenance": [],
      "authorship_tag": "ABX9TyP9jB09f3P5Jvix+bGPmP9r",
      "include_colab_link": true
    },
    "kernelspec": {
      "name": "python3",
      "display_name": "Python 3"
    }
  },
  "cells": [
    {
      "cell_type": "markdown",
      "metadata": {
        "id": "view-in-github",
        "colab_type": "text"
      },
      "source": [
        "<a href=\"https://colab.research.google.com/github/dunomi/zw/blob/master/z5.ipynb\" target=\"_parent\"><img src=\"https://colab.research.google.com/assets/colab-badge.svg\" alt=\"Open In Colab\"/></a>"
      ]
    },
    {
      "cell_type": "markdown",
      "metadata": {
        "id": "rUMQdi7d8s_S",
        "colab_type": "text"
      },
      "source": [
        "Notebook prezentujący działania na listach *array* z biblioteki *numpy*\n",
        "\n",
        "Autorzy: Eryk Kosiński, Dawid Drzymalski, Michał Połom"
      ]
    },
    {
      "cell_type": "markdown",
      "metadata": {
        "id": "OS9u7opYmlHB",
        "colab_type": "text"
      },
      "source": [
        "Import bibliotek i stworzenie listy i array"
      ]
    },
    {
      "cell_type": "code",
      "metadata": {
        "id": "yakCYAoKTnEh",
        "colab_type": "code",
        "outputId": "970ee152-1f2c-4363-9eb0-2507914e35bc",
        "colab": {
          "base_uri": "https://localhost:8080/",
          "height": 146
        }
      },
      "source": [
        "import numpy as np\n",
        "import timeit\n",
        "\n",
        "ar=np.random.random(30)\n",
        "li=np.random.random(30).tolist()\n",
        "\n",
        "print(ar)\n",
        "print(li)"
      ],
      "execution_count": 2,
      "outputs": [
        {
          "output_type": "stream",
          "text": [
            "[0.5893138  0.03178382 0.19807829 0.11920717 0.42980338 0.26449994\n",
            " 0.87730569 0.11887869 0.05504974 0.88091267 0.43331067 0.48124222\n",
            " 0.57439522 0.81287761 0.6488474  0.48711163 0.99306559 0.44189944\n",
            " 0.65615468 0.23229505 0.42825523 0.78139968 0.57679692 0.26782099\n",
            " 0.72958061 0.32771079 0.94628795 0.48591632 0.43714184 0.9657936 ]\n",
            "[0.07853085289406259, 0.5566492818732109, 0.4922552801470631, 0.761731175733293, 0.3423173738828871, 0.006791920144710972, 0.1764406260312168, 0.06664949786696439, 0.6500200363767383, 0.14397106270287996, 0.7176436833474575, 0.026735973207178798, 0.1827308274281858, 0.6689644539697691, 0.14894846707017328, 0.9118281925460582, 0.35096356357436265, 0.3944216285908686, 0.4605828326645922, 0.0714322195457966, 0.656686987860491, 0.9823771330216932, 0.7815844973937192, 0.030003460260382475, 0.5485683238016072, 0.6721455618712538, 0.6984272058428336, 0.7812443322817855, 0.6011581647453895, 0.591725074499504]\n"
          ],
          "name": "stdout"
        }
      ]
    },
    {
      "cell_type": "markdown",
      "metadata": {
        "id": "aZCwL87ymyun",
        "colab_type": "text"
      },
      "source": [
        "Zdefiniowanie funckji dla listy i array"
      ]
    },
    {
      "cell_type": "code",
      "metadata": {
        "id": "_ICFCA4cT7iY",
        "colab_type": "code",
        "outputId": "8ee528b8-6a3d-4290-c3bd-261e7347ec10",
        "colab": {
          "base_uri": "https://localhost:8080/",
          "height": 54
        }
      },
      "source": [
        " def ArrayOperations():\n",
        "   ar_min=ar.min()\n",
        "   ar_max=ar.max()\n",
        "   ar_sum=ar.sum()\n",
        "   ar_prod=ar.prod()\n",
        "   ar_mean=ar.mean()\n",
        "   ar_std=ar.std()\n",
        "   ar_var=ar.var()\n",
        "   return {'min':ar_min,'max':ar_max,'sum':ar_sum,'prod':ar_prod,'mean':ar_mean,'std':ar_std,'var':ar_var}\n",
        "\n",
        " def ListOperations():\n",
        "   li_min=min(li)\n",
        "   li_max=max(li)\n",
        "   li_sum=sum(li)\n",
        "   li_prod=1\n",
        "   for i in range(len(li)):\n",
        "     li_prod*=li[i]\n",
        "   li_mean=sum(li)/len(li)\n",
        "   li_var_n=0\n",
        "   for i in range(len(li)):\n",
        "     li_var_n+=(li[i]-li_mean)**2\n",
        "   li_var=li_var_n/len(li)\n",
        "   li_std=li_var**(1/2) \n",
        "   return {'min':li_min,'max':li_max,'sum':li_sum,'prod':li_prod,'mean':li_mean,'std':li_std,'var':li_var}\n",
        "\n",
        "print(ArrayOperations())\n",
        "print(ListOperations())"
      ],
      "execution_count": 0,
      "outputs": [
        {
          "output_type": "stream",
          "text": [
            "{'min': 0.05941828193074239, 'max': 0.9141127920212525, 'sum': 13.334165170504603, 'prod': 5.173083728421613e-15, 'mean': 0.4444721723501534, 'std': 0.27808680753253767, 'var': 0.07733227252363864}\n",
            "{'min': 0.09856858162047144, 'max': 0.8522887020961659, 'sum': 14.168946135290419, 'prod': 3.3935701835857985e-12, 'mean': 0.47229820450968063, 'std': 0.2200025041256234, 'var': 0.04840110182154494}\n"
          ],
          "name": "stdout"
        }
      ]
    },
    {
      "cell_type": "code",
      "metadata": {
        "id": "O975WMoXT7o3",
        "colab_type": "code",
        "outputId": "546a794b-dcba-403d-cb7c-61110a9ca361",
        "colab": {
          "base_uri": "https://localhost:8080/",
          "height": 72
        }
      },
      "source": [
        "t_ar = timeit.timeit(ArrayOperations, number=1000)\n",
        "t_li = timeit.timeit(ListOperations, number=1000)\n",
        "\n",
        "print(\"Czas funkcji Array:\",t_ar)\n",
        "print(\"Czas funkcji List:\",t_li)\n",
        "if t_ar>t_li: print(\"Wniosek: Operacje na Liście w tym przypadku szybsze niż na Array\")\n",
        "else: print(\"Wniosek: Operacje na Array w tym przypadku szybsze niż na Liście\")"
      ],
      "execution_count": 0,
      "outputs": [
        {
          "output_type": "stream",
          "text": [
            "Czas funkcji Array: 0.07241231500029244\n",
            "Czas funkcji List: 0.008428747999460029\n",
            "Wniosek: Operacje na Liście w tym przypadku szybsze niż na Array\n"
          ],
          "name": "stdout"
        }
      ]
    },
    {
      "cell_type": "markdown",
      "metadata": {
        "id": "VbcrJBnUnTVG",
        "colab_type": "text"
      },
      "source": [
        "Sprawdzenie mniej elementarnych obliczeń"
      ]
    },
    {
      "cell_type": "code",
      "metadata": {
        "id": "B5_OZ5GblnMJ",
        "colab_type": "code",
        "outputId": "8ebb063a-e797-4cdf-a414-4dc644490395",
        "colab": {
          "base_uri": "https://localhost:8080/",
          "height": 72
        }
      },
      "source": [
        "#podniesienie do kwadratu każdego elementu\n",
        "def x(): [i**2 for i in li] \n",
        "def y(): ar**2\n",
        "\n",
        "t_ar = timeit.timeit(y, number=1000)\n",
        "t_li = timeit.timeit(x, number=1000)\n",
        "\n",
        "print(\"Czas funkcji Array:\",t_ar)\n",
        "print(\"Czas funkcji List:\",t_li)\n",
        "if t_ar>t_li: print(\"Wniosek: Operacje na Liście w tym przypadku szybsze niż na Array\")\n",
        "else: print(\"Wniosek: Operacje na Array w tym przypadku szybsze niż na Liście\")"
      ],
      "execution_count": 0,
      "outputs": [
        {
          "output_type": "stream",
          "text": [
            "Czas funkcji Array: 0.0018691109999053879\n",
            "Czas funkcji List: 0.002270047000820341\n",
            "Wniosek: Operacje na Array w tym przypadku szybsze niż na Liście\n"
          ],
          "name": "stdout"
        }
      ]
    },
    {
      "cell_type": "markdown",
      "metadata": {
        "id": "rTdJvfMbityk",
        "colab_type": "text"
      },
      "source": [
        "Wybrane sposoby oracy z tablicami zdefiniowanymi w pakiecie numpy"
      ]
    },
    {
      "cell_type": "code",
      "metadata": {
        "id": "B1Z5WeyNitQq",
        "colab_type": "code",
        "outputId": "3ae743c4-c650-47b7-9ff3-096ff7b13735",
        "colab": {
          "base_uri": "https://localhost:8080/",
          "height": 745
        }
      },
      "source": [
        "x=np.random.random(100)\n",
        "x.reshape(4,5,5) #zwraca zmienioną Array: 4 główne listy które zawierają po 5 pięcio elementowych list\n",
        "print(\"x po reshape\",x)\n",
        "x.resize(4,5,5) #zmienioniaa Array: 4 główne listy które zawierają po 5 pięcio elementowych list\n",
        "print(\"x po resize\",x)"
      ],
      "execution_count": 0,
      "outputs": [
        {
          "output_type": "stream",
          "text": [
            "x po reshape [0.8173253  0.26936745 0.61124333 0.99911122 0.18542726 0.06075078\n",
            " 0.15820463 0.95932167 0.47601087 0.92365176 0.99608573 0.28119595\n",
            " 0.95044918 0.12606682 0.24357171 0.1744122  0.81993836 0.98561401\n",
            " 0.94829449 0.91911891 0.72336203 0.88546519 0.46561932 0.12717181\n",
            " 0.40351862 0.94332907 0.23850847 0.31040624 0.64233252 0.44373023\n",
            " 0.4397209  0.71107238 0.11951529 0.52693493 0.24722197 0.03896452\n",
            " 0.39294246 0.94595401 0.3393263  0.5727426  0.29035028 0.73610772\n",
            " 0.5041758  0.54233037 0.82147756 0.64257751 0.07898339 0.0612463\n",
            " 0.6402712  0.9629075  0.47189416 0.69108278 0.9697318  0.91644251\n",
            " 0.50566171 0.08771687 0.61915275 0.23536599 0.44134671 0.32698469\n",
            " 0.1947356  0.03293468 0.63605753 0.56534758 0.74294526 0.7876617\n",
            " 0.85387685 0.74029454 0.21657524 0.23552167 0.87912876 0.45702144\n",
            " 0.45438791 0.05261892 0.87999281 0.41782009 0.37055557 0.26087049\n",
            " 0.1997548  0.64944841 0.59332936 0.82394625 0.9331672  0.12781042\n",
            " 0.75534857 0.98266645 0.91838552 0.44267221 0.91601178 0.62982863\n",
            " 0.53267035 0.78707685 0.84509093 0.7717957  0.35865122 0.28062573\n",
            " 0.46864913 0.78696703 0.42774952 0.0548883 ]\n",
            "x po resize [[[0.8173253  0.26936745 0.61124333 0.99911122 0.18542726]\n",
            "  [0.06075078 0.15820463 0.95932167 0.47601087 0.92365176]\n",
            "  [0.99608573 0.28119595 0.95044918 0.12606682 0.24357171]\n",
            "  [0.1744122  0.81993836 0.98561401 0.94829449 0.91911891]\n",
            "  [0.72336203 0.88546519 0.46561932 0.12717181 0.40351862]]\n",
            "\n",
            " [[0.94332907 0.23850847 0.31040624 0.64233252 0.44373023]\n",
            "  [0.4397209  0.71107238 0.11951529 0.52693493 0.24722197]\n",
            "  [0.03896452 0.39294246 0.94595401 0.3393263  0.5727426 ]\n",
            "  [0.29035028 0.73610772 0.5041758  0.54233037 0.82147756]\n",
            "  [0.64257751 0.07898339 0.0612463  0.6402712  0.9629075 ]]\n",
            "\n",
            " [[0.47189416 0.69108278 0.9697318  0.91644251 0.50566171]\n",
            "  [0.08771687 0.61915275 0.23536599 0.44134671 0.32698469]\n",
            "  [0.1947356  0.03293468 0.63605753 0.56534758 0.74294526]\n",
            "  [0.7876617  0.85387685 0.74029454 0.21657524 0.23552167]\n",
            "  [0.87912876 0.45702144 0.45438791 0.05261892 0.87999281]]\n",
            "\n",
            " [[0.41782009 0.37055557 0.26087049 0.1997548  0.64944841]\n",
            "  [0.59332936 0.82394625 0.9331672  0.12781042 0.75534857]\n",
            "  [0.98266645 0.91838552 0.44267221 0.91601178 0.62982863]\n",
            "  [0.53267035 0.78707685 0.84509093 0.7717957  0.35865122]\n",
            "  [0.28062573 0.46864913 0.78696703 0.42774952 0.0548883 ]]]\n"
          ],
          "name": "stdout"
        }
      ]
    },
    {
      "cell_type": "code",
      "metadata": {
        "id": "s3oe1QsisI8V",
        "colab_type": "code",
        "outputId": "e576d340-7fa6-4e58-99bd-83840d2b7aa9",
        "colab": {
          "base_uri": "https://localhost:8080/",
          "height": 417
        }
      },
      "source": [
        "print(\"Liczba wymiarów:\",x.ndim)\n",
        "print(\"Rozmiar tablicy:\",x.shape)\n",
        "print(\"Liczba elementów:\",x.size)\n",
        "print(\"Typ elementów:\",x.dtype)\n",
        "print(\"Rozmiar elementu w bajtach:\",x.itemsize)\n",
        "\n",
        "print(x.ravel()) #spłaszczenie Array'a"
      ],
      "execution_count": 0,
      "outputs": [
        {
          "output_type": "stream",
          "text": [
            "Liczba wymiarów: 3\n",
            "Rozmiar tablicy: (4, 5, 5)\n",
            "Liczba elementów: 100\n",
            "Typ elementów: float64\n",
            "Rozmiar elementu w bajtach: 8\n",
            "[0.8173253  0.26936745 0.61124333 0.99911122 0.18542726 0.06075078\n",
            " 0.15820463 0.95932167 0.47601087 0.92365176 0.99608573 0.28119595\n",
            " 0.95044918 0.12606682 0.24357171 0.1744122  0.81993836 0.98561401\n",
            " 0.94829449 0.91911891 0.72336203 0.88546519 0.46561932 0.12717181\n",
            " 0.40351862 0.94332907 0.23850847 0.31040624 0.64233252 0.44373023\n",
            " 0.4397209  0.71107238 0.11951529 0.52693493 0.24722197 0.03896452\n",
            " 0.39294246 0.94595401 0.3393263  0.5727426  0.29035028 0.73610772\n",
            " 0.5041758  0.54233037 0.82147756 0.64257751 0.07898339 0.0612463\n",
            " 0.6402712  0.9629075  0.47189416 0.69108278 0.9697318  0.91644251\n",
            " 0.50566171 0.08771687 0.61915275 0.23536599 0.44134671 0.32698469\n",
            " 0.1947356  0.03293468 0.63605753 0.56534758 0.74294526 0.7876617\n",
            " 0.85387685 0.74029454 0.21657524 0.23552167 0.87912876 0.45702144\n",
            " 0.45438791 0.05261892 0.87999281 0.41782009 0.37055557 0.26087049\n",
            " 0.1997548  0.64944841 0.59332936 0.82394625 0.9331672  0.12781042\n",
            " 0.75534857 0.98266645 0.91838552 0.44267221 0.91601178 0.62982863\n",
            " 0.53267035 0.78707685 0.84509093 0.7717957  0.35865122 0.28062573\n",
            " 0.46864913 0.78696703 0.42774952 0.0548883 ]\n"
          ],
          "name": "stdout"
        }
      ]
    },
    {
      "cell_type": "code",
      "metadata": {
        "id": "35eXHMgAsJDB",
        "colab_type": "code",
        "outputId": "9acf292e-1df9-4036-8505-f6da8b72e857",
        "colab": {
          "base_uri": "https://localhost:8080/",
          "height": 399
        }
      },
      "source": [
        "s=(2,3,4)\n",
        "print(\"Array zawierający tylko zera\")\n",
        "print(np.zeros(s))\n",
        "print(\"Array zawierający tylko jedynki\")\n",
        "print(np.ones(s))\n",
        "print(\"Array zawierający jedynki tylko na przekątnej\")\n",
        "print(np.eye(4))"
      ],
      "execution_count": 0,
      "outputs": [
        {
          "output_type": "stream",
          "text": [
            "Array zawierający tylko zera\n",
            "[[[0. 0. 0. 0.]\n",
            "  [0. 0. 0. 0.]\n",
            "  [0. 0. 0. 0.]]\n",
            "\n",
            " [[0. 0. 0. 0.]\n",
            "  [0. 0. 0. 0.]\n",
            "  [0. 0. 0. 0.]]]\n",
            "Array zawierający tylko jedynki\n",
            "[[[1. 1. 1. 1.]\n",
            "  [1. 1. 1. 1.]\n",
            "  [1. 1. 1. 1.]]\n",
            "\n",
            " [[1. 1. 1. 1.]\n",
            "  [1. 1. 1. 1.]\n",
            "  [1. 1. 1. 1.]]]\n",
            "Array zawierający jedynki tylko na przekątnej\n",
            "[[1. 0. 0. 0.]\n",
            " [0. 1. 0. 0.]\n",
            " [0. 0. 1. 0.]\n",
            " [0. 0. 0. 1.]]\n"
          ],
          "name": "stdout"
        }
      ]
    },
    {
      "cell_type": "code",
      "metadata": {
        "id": "EuXJs0DrwTUA",
        "colab_type": "code",
        "outputId": "86581613-71c3-4eab-c6ca-cf482129abed",
        "colab": {
          "base_uri": "https://localhost:8080/",
          "height": 72
        }
      },
      "source": [
        "print(np.arange(4,99,3)) #liczby od 4 do 99 co 3\n",
        "print(np.linspace(0,100,11)) #podział odcinka [0,100] na 11 liczb, oddalonych od siebie równomiernie"
      ],
      "execution_count": 0,
      "outputs": [
        {
          "output_type": "stream",
          "text": [
            "[ 4  7 10 13 16 19 22 25 28 31 34 37 40 43 46 49 52 55 58 61 64 67 70 73\n",
            " 76 79 82 85 88 91 94 97]\n",
            "[  0.  10.  20.  30.  40.  50.  60.  70.  80.  90. 100.]\n"
          ],
          "name": "stdout"
        }
      ]
    },
    {
      "cell_type": "code",
      "metadata": {
        "id": "IqmLzGGjwTXn",
        "colab_type": "code",
        "outputId": "c564bd50-4060-4694-ba42-ec3bf0f17d06",
        "colab": {
          "base_uri": "https://localhost:8080/",
          "height": 181
        }
      },
      "source": [
        "x=np.random.random(16).reshape((4,4))\n",
        "x\n",
        "print(np.vstack((x,\n",
        "                 [3.,4.,5.,6.]))) #dodanie kolejnego \"wiersza\"\n",
        "print(np.hstack((x,\n",
        "                 np.array([3.,4.,5.,6.]).reshape(4,1)))) #dodanie koeljnej \"kolumny\""
      ],
      "execution_count": 0,
      "outputs": [
        {
          "output_type": "stream",
          "text": [
            "[[0.81326104 0.20059145 0.67401727 0.60990648]\n",
            " [0.6851108  0.51266716 0.92879586 0.03069156]\n",
            " [0.92500811 0.04635147 0.669117   0.25225427]\n",
            " [0.28027437 0.61285263 0.33592668 0.30264309]\n",
            " [3.         4.         5.         6.        ]]\n",
            "[[0.81326104 0.20059145 0.67401727 0.60990648 3.        ]\n",
            " [0.6851108  0.51266716 0.92879586 0.03069156 4.        ]\n",
            " [0.92500811 0.04635147 0.669117   0.25225427 5.        ]\n",
            " [0.28027437 0.61285263 0.33592668 0.30264309 6.        ]]\n"
          ],
          "name": "stdout"
        }
      ]
    },
    {
      "cell_type": "code",
      "metadata": {
        "id": "SMma6uph8yR1",
        "colab_type": "code",
        "colab": {
          "base_uri": "https://localhost:8080/",
          "height": 363
        },
        "outputId": "f63f321e-f7df-44c4-a595-bf0ad84cb0a1"
      },
      "source": [
        "x=np.random.randint(0,100,100)\n",
        "print(x)\n",
        "print(np.nonzero(x>50)) #nonzero wskazuje na których indeksach znajdują się elementy spełniające warunek\n",
        "print(x[np.nonzero(x>50)])\n",
        "print(np.where(x>50,x**2,0)) #Dla elementów spełniających warunek podniesienie ich do kwadratu, a dla niespełniających warunku, zamiana na 0"
      ],
      "execution_count": 13,
      "outputs": [
        {
          "output_type": "stream",
          "text": [
            "[70 93 45 94 28 19 95 21 70  5 53 81 91 20 66 38 60 85 57 84 55 33 61 97\n",
            " 34 75 39 65 81 50  9 90 64 40 22 68 49 48 89 46 53 86 62 74 17  7 32 59\n",
            " 13 96 77  7 53 44 33 53 89 47 46  9 86 79 35 10 45 53 26 26 50 30 18 97\n",
            " 12 71 91 33 93 80 34 19 23 62 92 45 66  3 93 86 67 18 15 96  6 18  9 44\n",
            " 34 49 29 54]\n",
            "(array([ 0,  1,  3,  6,  8, 10, 11, 12, 14, 16, 17, 18, 19, 20, 22, 23, 25,\n",
            "       27, 28, 31, 32, 35, 38, 40, 41, 42, 43, 47, 49, 50, 52, 55, 56, 60,\n",
            "       61, 65, 71, 73, 74, 76, 77, 81, 82, 84, 86, 87, 88, 91, 99]),)\n",
            "[70 93 94 95 70 53 81 91 66 60 85 57 84 55 61 97 75 65 81 90 64 68 89 53\n",
            " 86 62 74 59 96 77 53 53 89 86 79 53 97 71 91 93 80 62 92 66 93 86 67 96\n",
            " 54]\n",
            "[4900 8649    0 8836    0    0 9025    0 4900    0 2809 6561 8281    0\n",
            " 4356    0 3600 7225 3249 7056 3025    0 3721 9409    0 5625    0 4225\n",
            " 6561    0    0 8100 4096    0    0 4624    0    0 7921    0 2809 7396\n",
            " 3844 5476    0    0    0 3481    0 9216 5929    0 2809    0    0 2809\n",
            " 7921    0    0    0 7396 6241    0    0    0 2809    0    0    0    0\n",
            "    0 9409    0 5041 8281    0 8649 6400    0    0    0 3844 8464    0\n",
            " 4356    0 8649 7396 4489    0    0 9216    0    0    0    0    0    0\n",
            "    0 2916]\n"
          ],
          "name": "stdout"
        }
      ]
    }
  ]
}